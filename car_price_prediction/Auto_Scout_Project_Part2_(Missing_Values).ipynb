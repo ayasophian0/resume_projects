{
 "cells": [
  {
   "cell_type": "code",
   "execution_count": 1,
   "id": "05a32204-bbf5-4a93-8b49-c20ff566f7e4",
   "metadata": {},
   "outputs": [],
   "source": [
    "import pandas as pd\n",
    "import numpy as np\n",
    "import re\n",
    "import seaborn as sns\n",
    "import matplotlib.pyplot as plt\n",
    "\n",
    "import warnings \n",
    "warnings.filterwarnings('ignore')\n",
    "\n",
    "pd.set_option('display.max_columns', 100)\n",
    "pd.set_option('display.max_rows', 1000)"
   ]
  },
  {
   "cell_type": "code",
   "execution_count": 3,
   "id": "9e253312-1ac2-4898-8c0b-b6fbd2668794",
   "metadata": {},
   "outputs": [],
   "source": [
    "df0 = pd.read_csv(\"auto_scout_part1.csv\")\n",
    "df = df0.copy()"
   ]
  },
  {
   "cell_type": "code",
   "execution_count": 5,
   "id": "0ca674b6-bd41-4180-83de-030de55afb7d",
   "metadata": {},
   "outputs": [
    {
     "data": {
      "text/html": [
       "<div>\n",
       "<style scoped>\n",
       "    .dataframe tbody tr th:only-of-type {\n",
       "        vertical-align: middle;\n",
       "    }\n",
       "\n",
       "    .dataframe tbody tr th {\n",
       "        vertical-align: top;\n",
       "    }\n",
       "\n",
       "    .dataframe thead th {\n",
       "        text-align: right;\n",
       "    }\n",
       "</style>\n",
       "<table border=\"1\" class=\"dataframe\">\n",
       "  <thead>\n",
       "    <tr style=\"text-align: right;\">\n",
       "      <th></th>\n",
       "      <th>make_model</th>\n",
       "      <th>short_description</th>\n",
       "      <th>make</th>\n",
       "      <th>model</th>\n",
       "      <th>location</th>\n",
       "      <th>price</th>\n",
       "      <th>body_type</th>\n",
       "      <th>type</th>\n",
       "      <th>doors</th>\n",
       "      <th>country_version</th>\n",
       "      <th>warranty</th>\n",
       "      <th>mileage</th>\n",
       "      <th>first_registration</th>\n",
       "      <th>gearbox</th>\n",
       "      <th>fuel_type</th>\n",
       "      <th>colour</th>\n",
       "      <th>paint</th>\n",
       "      <th>seller</th>\n",
       "      <th>seats</th>\n",
       "      <th>engine_size</th>\n",
       "      <th>gears</th>\n",
       "      <th>co_emissions</th>\n",
       "      <th>manufacturer_colour</th>\n",
       "      <th>drivetrain</th>\n",
       "      <th>cylinders</th>\n",
       "      <th>comfort_&amp;_convenience</th>\n",
       "      <th>entertainment_&amp;_media</th>\n",
       "      <th>safety_&amp;_security</th>\n",
       "      <th>extras</th>\n",
       "      <th>empty_weight</th>\n",
       "      <th>general_inspection</th>\n",
       "      <th>full_service_history</th>\n",
       "      <th>non_smoker_vehicle</th>\n",
       "      <th>emission_class</th>\n",
       "      <th>emissions_sticker</th>\n",
       "      <th>upholstery_colour</th>\n",
       "      <th>upholstery</th>\n",
       "      <th>previous_owner</th>\n",
       "      <th>other_fuel_types</th>\n",
       "      <th>energy_efficiency_class</th>\n",
       "      <th>age</th>\n",
       "      <th>power_kW</th>\n",
       "      <th>horse_power</th>\n",
       "      <th>f_consumption_per_100_combined</th>\n",
       "      <th>comfort_convenience_pack</th>\n",
       "      <th>safety_security_pack</th>\n",
       "      <th>entertainment_pack</th>\n",
       "      <th>extra_pack</th>\n",
       "    </tr>\n",
       "  </thead>\n",
       "  <tbody>\n",
       "    <tr>\n",
       "      <th>0</th>\n",
       "      <td>Mercedes-Benz A 160</td>\n",
       "      <td>CDi</td>\n",
       "      <td>Mercedes-Benz</td>\n",
       "      <td>A 160</td>\n",
       "      <td>P.I. EL PALMAR C/FORJA 6,  11500 PUERTO DE SAN...</td>\n",
       "      <td>16950.0</td>\n",
       "      <td>Compact</td>\n",
       "      <td>Used</td>\n",
       "      <td>5.0</td>\n",
       "      <td>Spain</td>\n",
       "      <td>24 months</td>\n",
       "      <td>120200.0</td>\n",
       "      <td>06/2016</td>\n",
       "      <td>Manual</td>\n",
       "      <td>Diesel</td>\n",
       "      <td>Black</td>\n",
       "      <td>Metallic</td>\n",
       "      <td>Dealer</td>\n",
       "      <td>NaN</td>\n",
       "      <td>NaN</td>\n",
       "      <td>NaN</td>\n",
       "      <td>NaN</td>\n",
       "      <td>NaN</td>\n",
       "      <td>NaN</td>\n",
       "      <td>NaN</td>\n",
       "      <td>NaN</td>\n",
       "      <td>NaN</td>\n",
       "      <td>NaN</td>\n",
       "      <td>NaN</td>\n",
       "      <td>NaN</td>\n",
       "      <td>NaN</td>\n",
       "      <td>NaN</td>\n",
       "      <td>NaN</td>\n",
       "      <td>NaN</td>\n",
       "      <td>NaN</td>\n",
       "      <td>NaN</td>\n",
       "      <td>NaN</td>\n",
       "      <td>NaN</td>\n",
       "      <td>NaN</td>\n",
       "      <td>NaN</td>\n",
       "      <td>6.0</td>\n",
       "      <td>NaN</td>\n",
       "      <td>NaN</td>\n",
       "      <td>NaN</td>\n",
       "      <td>NaN</td>\n",
       "      <td>NaN</td>\n",
       "      <td>NaN</td>\n",
       "      <td>NaN</td>\n",
       "    </tr>\n",
       "    <tr>\n",
       "      <th>1</th>\n",
       "      <td>Mercedes-Benz EQE 350</td>\n",
       "      <td>350+</td>\n",
       "      <td>Mercedes-Benz</td>\n",
       "      <td>EQE 350</td>\n",
       "      <td>APARTADO DE CORREOS 1032,  26140 LOGROÑO, ES</td>\n",
       "      <td>80900.0</td>\n",
       "      <td>Compact</td>\n",
       "      <td>Pre-registered</td>\n",
       "      <td>4.0</td>\n",
       "      <td>Spain</td>\n",
       "      <td>24 months</td>\n",
       "      <td>5000.0</td>\n",
       "      <td>06/2022</td>\n",
       "      <td>Automatic</td>\n",
       "      <td>Electric</td>\n",
       "      <td>NaN</td>\n",
       "      <td>NaN</td>\n",
       "      <td>Dealer</td>\n",
       "      <td>5.0</td>\n",
       "      <td>0.0</td>\n",
       "      <td>9.0</td>\n",
       "      <td>0.0</td>\n",
       "      <td>Negro Obsidiana</td>\n",
       "      <td>NaN</td>\n",
       "      <td>NaN</td>\n",
       "      <td>NaN</td>\n",
       "      <td>NaN</td>\n",
       "      <td>NaN</td>\n",
       "      <td>NaN</td>\n",
       "      <td>NaN</td>\n",
       "      <td>NaN</td>\n",
       "      <td>NaN</td>\n",
       "      <td>NaN</td>\n",
       "      <td>NaN</td>\n",
       "      <td>NaN</td>\n",
       "      <td>NaN</td>\n",
       "      <td>NaN</td>\n",
       "      <td>NaN</td>\n",
       "      <td>NaN</td>\n",
       "      <td>NaN</td>\n",
       "      <td>0.0</td>\n",
       "      <td>215.0</td>\n",
       "      <td>292.0</td>\n",
       "      <td>NaN</td>\n",
       "      <td>NaN</td>\n",
       "      <td>NaN</td>\n",
       "      <td>NaN</td>\n",
       "      <td>NaN</td>\n",
       "    </tr>\n",
       "    <tr>\n",
       "      <th>2</th>\n",
       "      <td>Mercedes-Benz A 45 AMG</td>\n",
       "      <td>S 4Matic+ 8G-DCT</td>\n",
       "      <td>Mercedes-Benz</td>\n",
       "      <td>A 45 AMG</td>\n",
       "      <td>PORT. TARRACO, MOLL DE LLEVANT, Nº 5, LOC. 6-8...</td>\n",
       "      <td>69900.0</td>\n",
       "      <td>Compact</td>\n",
       "      <td>Used</td>\n",
       "      <td>5.0</td>\n",
       "      <td>Spain</td>\n",
       "      <td>12 months</td>\n",
       "      <td>18900.0</td>\n",
       "      <td>07/2020</td>\n",
       "      <td>Automatic</td>\n",
       "      <td>Gasoline</td>\n",
       "      <td>Grey</td>\n",
       "      <td>NaN</td>\n",
       "      <td>Dealer</td>\n",
       "      <td>5.0</td>\n",
       "      <td>1.9</td>\n",
       "      <td>8.0</td>\n",
       "      <td>NaN</td>\n",
       "      <td>Mountaingrau Magno</td>\n",
       "      <td>4WD</td>\n",
       "      <td>4.0</td>\n",
       "      <td>NaN</td>\n",
       "      <td>NaN</td>\n",
       "      <td>NaN</td>\n",
       "      <td>NaN</td>\n",
       "      <td>NaN</td>\n",
       "      <td>NaN</td>\n",
       "      <td>NaN</td>\n",
       "      <td>NaN</td>\n",
       "      <td>NaN</td>\n",
       "      <td>NaN</td>\n",
       "      <td>NaN</td>\n",
       "      <td>NaN</td>\n",
       "      <td>NaN</td>\n",
       "      <td>NaN</td>\n",
       "      <td>NaN</td>\n",
       "      <td>2.0</td>\n",
       "      <td>310.0</td>\n",
       "      <td>421.0</td>\n",
       "      <td>8.4</td>\n",
       "      <td>NaN</td>\n",
       "      <td>NaN</td>\n",
       "      <td>NaN</td>\n",
       "      <td>NaN</td>\n",
       "    </tr>\n",
       "    <tr>\n",
       "      <th>3</th>\n",
       "      <td>Mercedes-Benz A 35 AMG</td>\n",
       "      <td>4Matic+ 7G-DCT</td>\n",
       "      <td>Mercedes-Benz</td>\n",
       "      <td>A 35 AMG</td>\n",
       "      <td>Carrer de Provença, 31 Local,  8029 BARCELONA, ES</td>\n",
       "      <td>46990.0</td>\n",
       "      <td>Compact</td>\n",
       "      <td>Used</td>\n",
       "      <td>5.0</td>\n",
       "      <td>Spain</td>\n",
       "      <td>12 months</td>\n",
       "      <td>18995.0</td>\n",
       "      <td>01/2020</td>\n",
       "      <td>Automatic</td>\n",
       "      <td>Gasoline</td>\n",
       "      <td>Yellow</td>\n",
       "      <td>NaN</td>\n",
       "      <td>Dealer</td>\n",
       "      <td>5.0</td>\n",
       "      <td>1.9</td>\n",
       "      <td>7.0</td>\n",
       "      <td>NaN</td>\n",
       "      <td>Amarillo Sol</td>\n",
       "      <td>4WD</td>\n",
       "      <td>4.0</td>\n",
       "      <td>Air conditioning, Automatic climate control, P...</td>\n",
       "      <td>USB</td>\n",
       "      <td>ABS, Central door lock, Driver-side airbag, El...</td>\n",
       "      <td>Sport seats</td>\n",
       "      <td>NaN</td>\n",
       "      <td>NaN</td>\n",
       "      <td>NaN</td>\n",
       "      <td>NaN</td>\n",
       "      <td>NaN</td>\n",
       "      <td>NaN</td>\n",
       "      <td>NaN</td>\n",
       "      <td>NaN</td>\n",
       "      <td>NaN</td>\n",
       "      <td>NaN</td>\n",
       "      <td>NaN</td>\n",
       "      <td>2.0</td>\n",
       "      <td>225.0</td>\n",
       "      <td>306.0</td>\n",
       "      <td>7.3</td>\n",
       "      <td>Standard</td>\n",
       "      <td>Standard</td>\n",
       "      <td>Standard</td>\n",
       "      <td>Standard</td>\n",
       "    </tr>\n",
       "    <tr>\n",
       "      <th>4</th>\n",
       "      <td>Mercedes-Benz A 45 AMG</td>\n",
       "      <td>200CDI BE Line 4M 7G-DCT</td>\n",
       "      <td>Mercedes-Benz</td>\n",
       "      <td>A 45 AMG</td>\n",
       "      <td>CARRIL ARAGONES 4,  30007 CASILLAS, ES</td>\n",
       "      <td>16800.0</td>\n",
       "      <td>Compact</td>\n",
       "      <td>Used</td>\n",
       "      <td>5.0</td>\n",
       "      <td>Spain</td>\n",
       "      <td>12 months</td>\n",
       "      <td>197000.0</td>\n",
       "      <td>09/2015</td>\n",
       "      <td>Automatic</td>\n",
       "      <td>Diesel</td>\n",
       "      <td>White</td>\n",
       "      <td>Metallic</td>\n",
       "      <td>Dealer</td>\n",
       "      <td>5.0</td>\n",
       "      <td>2.1</td>\n",
       "      <td>7.0</td>\n",
       "      <td>NaN</td>\n",
       "      <td>NaN</td>\n",
       "      <td>4WD</td>\n",
       "      <td>4.0</td>\n",
       "      <td>Air conditioning, Electrical side mirrors, Mul...</td>\n",
       "      <td>Bluetooth, CD player, MP3, USB</td>\n",
       "      <td>ABS, Central door lock, Driver-side airbag, El...</td>\n",
       "      <td>NaN</td>\n",
       "      <td>1545.0</td>\n",
       "      <td>NaN</td>\n",
       "      <td>NaN</td>\n",
       "      <td>NaN</td>\n",
       "      <td>NaN</td>\n",
       "      <td>NaN</td>\n",
       "      <td>NaN</td>\n",
       "      <td>NaN</td>\n",
       "      <td>NaN</td>\n",
       "      <td>NaN</td>\n",
       "      <td>NaN</td>\n",
       "      <td>7.0</td>\n",
       "      <td>100.0</td>\n",
       "      <td>136.0</td>\n",
       "      <td>4.9</td>\n",
       "      <td>Standard</td>\n",
       "      <td>Standard</td>\n",
       "      <td>Standard</td>\n",
       "      <td>NaN</td>\n",
       "    </tr>\n",
       "  </tbody>\n",
       "</table>\n",
       "</div>"
      ],
      "text/plain": [
       "               make_model         short_description           make     model  \\\n",
       "0     Mercedes-Benz A 160                       CDi  Mercedes-Benz     A 160   \n",
       "1   Mercedes-Benz EQE 350                      350+  Mercedes-Benz   EQE 350   \n",
       "2  Mercedes-Benz A 45 AMG          S 4Matic+ 8G-DCT  Mercedes-Benz  A 45 AMG   \n",
       "3  Mercedes-Benz A 35 AMG            4Matic+ 7G-DCT  Mercedes-Benz  A 35 AMG   \n",
       "4  Mercedes-Benz A 45 AMG  200CDI BE Line 4M 7G-DCT  Mercedes-Benz  A 45 AMG   \n",
       "\n",
       "                                            location    price body_type  \\\n",
       "0  P.I. EL PALMAR C/FORJA 6,  11500 PUERTO DE SAN...  16950.0   Compact   \n",
       "1       APARTADO DE CORREOS 1032,  26140 LOGROÑO, ES  80900.0   Compact   \n",
       "2  PORT. TARRACO, MOLL DE LLEVANT, Nº 5, LOC. 6-8...  69900.0   Compact   \n",
       "3  Carrer de Provença, 31 Local,  8029 BARCELONA, ES  46990.0   Compact   \n",
       "4             CARRIL ARAGONES 4,  30007 CASILLAS, ES  16800.0   Compact   \n",
       "\n",
       "             type  doors country_version   warranty   mileage  \\\n",
       "0            Used    5.0           Spain  24 months  120200.0   \n",
       "1  Pre-registered    4.0           Spain  24 months    5000.0   \n",
       "2            Used    5.0           Spain  12 months   18900.0   \n",
       "3            Used    5.0           Spain  12 months   18995.0   \n",
       "4            Used    5.0           Spain  12 months  197000.0   \n",
       "\n",
       "  first_registration    gearbox fuel_type  colour     paint  seller  seats  \\\n",
       "0            06/2016     Manual    Diesel   Black  Metallic  Dealer    NaN   \n",
       "1            06/2022  Automatic  Electric     NaN       NaN  Dealer    5.0   \n",
       "2            07/2020  Automatic  Gasoline    Grey       NaN  Dealer    5.0   \n",
       "3            01/2020  Automatic  Gasoline  Yellow       NaN  Dealer    5.0   \n",
       "4            09/2015  Automatic    Diesel   White  Metallic  Dealer    5.0   \n",
       "\n",
       "   engine_size  gears  co_emissions manufacturer_colour drivetrain  cylinders  \\\n",
       "0          NaN    NaN           NaN                 NaN        NaN        NaN   \n",
       "1          0.0    9.0           0.0     Negro Obsidiana        NaN        NaN   \n",
       "2          1.9    8.0           NaN  Mountaingrau Magno        4WD        4.0   \n",
       "3          1.9    7.0           NaN        Amarillo Sol        4WD        4.0   \n",
       "4          2.1    7.0           NaN                 NaN        4WD        4.0   \n",
       "\n",
       "                               comfort_&_convenience  \\\n",
       "0                                                NaN   \n",
       "1                                                NaN   \n",
       "2                                                NaN   \n",
       "3  Air conditioning, Automatic climate control, P...   \n",
       "4  Air conditioning, Electrical side mirrors, Mul...   \n",
       "\n",
       "            entertainment_&_media  \\\n",
       "0                             NaN   \n",
       "1                             NaN   \n",
       "2                             NaN   \n",
       "3                             USB   \n",
       "4  Bluetooth, CD player, MP3, USB   \n",
       "\n",
       "                                   safety_&_security       extras  \\\n",
       "0                                                NaN          NaN   \n",
       "1                                                NaN          NaN   \n",
       "2                                                NaN          NaN   \n",
       "3  ABS, Central door lock, Driver-side airbag, El...  Sport seats   \n",
       "4  ABS, Central door lock, Driver-side airbag, El...          NaN   \n",
       "\n",
       "   empty_weight general_inspection full_service_history non_smoker_vehicle  \\\n",
       "0           NaN                NaN                  NaN                NaN   \n",
       "1           NaN                NaN                  NaN                NaN   \n",
       "2           NaN                NaN                  NaN                NaN   \n",
       "3           NaN                NaN                  NaN                NaN   \n",
       "4        1545.0                NaN                  NaN                NaN   \n",
       "\n",
       "  emission_class emissions_sticker upholstery_colour upholstery  \\\n",
       "0            NaN               NaN               NaN        NaN   \n",
       "1            NaN               NaN               NaN        NaN   \n",
       "2            NaN               NaN               NaN        NaN   \n",
       "3            NaN               NaN               NaN        NaN   \n",
       "4            NaN               NaN               NaN        NaN   \n",
       "\n",
       "   previous_owner other_fuel_types energy_efficiency_class  age  power_kW  \\\n",
       "0             NaN              NaN                     NaN  6.0       NaN   \n",
       "1             NaN              NaN                     NaN  0.0     215.0   \n",
       "2             NaN              NaN                     NaN  2.0     310.0   \n",
       "3             NaN              NaN                     NaN  2.0     225.0   \n",
       "4             NaN              NaN                     NaN  7.0     100.0   \n",
       "\n",
       "   horse_power  f_consumption_per_100_combined comfort_convenience_pack  \\\n",
       "0          NaN                             NaN                      NaN   \n",
       "1        292.0                             NaN                      NaN   \n",
       "2        421.0                             8.4                      NaN   \n",
       "3        306.0                             7.3                 Standard   \n",
       "4        136.0                             4.9                 Standard   \n",
       "\n",
       "  safety_security_pack entertainment_pack extra_pack  \n",
       "0                  NaN                NaN        NaN  \n",
       "1                  NaN                NaN        NaN  \n",
       "2                  NaN                NaN        NaN  \n",
       "3             Standard           Standard   Standard  \n",
       "4             Standard           Standard        NaN  "
      ]
     },
     "execution_count": 5,
     "metadata": {},
     "output_type": "execute_result"
    }
   ],
   "source": [
    "df.head()"
   ]
  },
  {
   "cell_type": "code",
   "execution_count": 7,
   "id": "b8464e5a-ad9d-406b-8d4d-6c77858434ac",
   "metadata": {
    "scrolled": true
   },
   "outputs": [
    {
     "data": {
      "text/plain": [
       "make_model                          850\n",
       "short_description                  1063\n",
       "make                                850\n",
       "model                              1023\n",
       "location                            850\n",
       "price                               850\n",
       "body_type                           850\n",
       "type                                850\n",
       "doors                              1209\n",
       "country_version                   12591\n",
       "warranty                          13696\n",
       "mileage                             851\n",
       "first_registration                  852\n",
       "gearbox                            1098\n",
       "fuel_type                          2637\n",
       "colour                             2574\n",
       "paint                             14985\n",
       "seller                              850\n",
       "seats                              3975\n",
       "engine_size                        2253\n",
       "gears                             10526\n",
       "co_emissions                      10886\n",
       "manufacturer_colour                7693\n",
       "drivetrain                        12587\n",
       "cylinders                         10628\n",
       "comfort_&_convenience              4047\n",
       "entertainment_&_media              5836\n",
       "safety_&_security                  4065\n",
       "extras                             6000\n",
       "empty_weight                      11722\n",
       "general_inspection                17226\n",
       "full_service_history              16915\n",
       "non_smoker_vehicle                17886\n",
       "emission_class                    11621\n",
       "emissions_sticker                 20066\n",
       "upholstery_colour                 14911\n",
       "upholstery                        10870\n",
       "previous_owner                    15465\n",
       "other_fuel_types                  27167\n",
       "energy_efficiency_class           21676\n",
       "age                                 852\n",
       "power_kW                           1422\n",
       "horse_power                        1426\n",
       "f_consumption_per_100_combined     6271\n",
       "comfort_convenience_pack           4047\n",
       "safety_security_pack               4065\n",
       "entertainment_pack                 5836\n",
       "extra_pack                         6000\n",
       "dtype: int64"
      ]
     },
     "execution_count": 7,
     "metadata": {},
     "output_type": "execute_result"
    }
   ],
   "source": [
    "df.isnull().sum()"
   ]
  },
  {
   "cell_type": "code",
   "execution_count": 9,
   "id": "469b0a64-0fe9-468d-98d9-643d716e6e82",
   "metadata": {
    "scrolled": true
   },
   "outputs": [
    {
     "data": {
      "text/plain": [
       "make_model                        850\n",
       "short_description                 850\n",
       "make                              850\n",
       "model                             850\n",
       "location                          850\n",
       "price                             850\n",
       "body_type                         850\n",
       "type                              850\n",
       "doors                             850\n",
       "country_version                   850\n",
       "warranty                          850\n",
       "mileage                           850\n",
       "first_registration                850\n",
       "gearbox                           850\n",
       "fuel_type                         850\n",
       "colour                            850\n",
       "paint                             850\n",
       "seller                            850\n",
       "seats                             850\n",
       "engine_size                       850\n",
       "gears                             850\n",
       "co_emissions                      850\n",
       "manufacturer_colour               850\n",
       "drivetrain                        850\n",
       "cylinders                         850\n",
       "comfort_&_convenience             850\n",
       "entertainment_&_media             850\n",
       "safety_&_security                 850\n",
       "extras                            850\n",
       "empty_weight                      850\n",
       "general_inspection                850\n",
       "full_service_history              850\n",
       "non_smoker_vehicle                850\n",
       "emission_class                    850\n",
       "emissions_sticker                 850\n",
       "upholstery_colour                 850\n",
       "upholstery                        850\n",
       "previous_owner                    850\n",
       "other_fuel_types                  850\n",
       "energy_efficiency_class           850\n",
       "age                               850\n",
       "power_kW                          850\n",
       "horse_power                       850\n",
       "f_consumption_per_100_combined    850\n",
       "comfort_convenience_pack          850\n",
       "safety_security_pack              850\n",
       "entertainment_pack                850\n",
       "extra_pack                        850\n",
       "dtype: int64"
      ]
     },
     "execution_count": 9,
     "metadata": {},
     "output_type": "execute_result"
    }
   ],
   "source": [
    "df[df.price.isnull()].isnull().sum()"
   ]
  },
  {
   "cell_type": "code",
   "execution_count": 11,
   "id": "817d9527-c4dc-4f75-b84f-cd064703c988",
   "metadata": {},
   "outputs": [
    {
     "data": {
      "text/plain": [
       "Index([ 1785,  1814,  2700,  3008,  3114,  3132,  3182,  3311,  3337,  3408,\n",
       "       ...\n",
       "       29366, 29372, 29375, 29415, 29418, 29419, 29445, 29451, 29473, 29479],\n",
       "      dtype='int64', length=850)"
      ]
     },
     "execution_count": 11,
     "metadata": {},
     "output_type": "execute_result"
    }
   ],
   "source": [
    "df[df.price.isnull()].index"
   ]
  },
  {
   "cell_type": "code",
   "execution_count": 13,
   "id": "85e1d268-f0bc-4595-80f5-775078e7751c",
   "metadata": {},
   "outputs": [],
   "source": [
    "df.drop(df[df.price.isnull()].index, inplace=True)"
   ]
  },
  {
   "cell_type": "code",
   "execution_count": 15,
   "id": "beed99c7-6eaa-40c3-b5eb-a77b01ea844b",
   "metadata": {
    "scrolled": true
   },
   "outputs": [
    {
     "data": {
      "text/plain": [
       "make_model                         0.000000\n",
       "short_description                  0.743975\n",
       "make                               0.000000\n",
       "model                              0.604261\n",
       "location                           0.000000\n",
       "price                              0.000000\n",
       "body_type                          0.000000\n",
       "type                               0.000000\n",
       "doors                              1.253929\n",
       "country_version                   41.009431\n",
       "warranty                          44.869019\n",
       "mileage                            0.003493\n",
       "first_registration                 0.006986\n",
       "gearbox                            0.866224\n",
       "fuel_type                          6.241705\n",
       "colour                             6.021656\n",
       "paint                             49.371289\n",
       "seller                             0.000000\n",
       "seats                             10.915124\n",
       "engine_size                        4.900454\n",
       "gears                             33.796717\n",
       "co_emissions                      35.054139\n",
       "manufacturer_colour               23.901502\n",
       "drivetrain                        40.995459\n",
       "cylinders                         34.152986\n",
       "comfort_&_convenience             11.166608\n",
       "entertainment_&_media             17.415299\n",
       "safety_&_security                 11.229480\n",
       "extras                            17.988124\n",
       "empty_weight                      37.974153\n",
       "general_inspection                57.198743\n",
       "full_service_history              56.112469\n",
       "non_smoker_vehicle                59.504017\n",
       "emission_class                    37.621376\n",
       "emissions_sticker                 67.118407\n",
       "upholstery_colour                 49.112819\n",
       "upholstery                        34.998254\n",
       "previous_owner                    51.047852\n",
       "other_fuel_types                  91.921062\n",
       "energy_efficiency_class           72.741879\n",
       "age                                0.006986\n",
       "power_kW                           1.997904\n",
       "horse_power                        2.011876\n",
       "f_consumption_per_100_combined    18.934684\n",
       "comfort_convenience_pack          11.166608\n",
       "safety_security_pack              11.229480\n",
       "entertainment_pack                17.415299\n",
       "extra_pack                        17.988124\n",
       "dtype: float64"
      ]
     },
     "execution_count": 15,
     "metadata": {},
     "output_type": "execute_result"
    }
   ],
   "source": [
    "df.isnull().sum() / len(df) * 100"
   ]
  },
  {
   "cell_type": "markdown",
   "id": "fafb9b52-7337-40d5-b384-309a409fce30",
   "metadata": {},
   "source": [
    "### Handling missing values"
   ]
  },
  {
   "cell_type": "code",
   "execution_count": 20,
   "id": "fee0677c-542a-4711-b2e2-124e4b513180",
   "metadata": {},
   "outputs": [
    {
     "data": {
      "text/plain": [
       "173"
      ]
     },
     "execution_count": 20,
     "metadata": {},
     "output_type": "execute_result"
    }
   ],
   "source": [
    "df.model.isnull().sum()"
   ]
  },
  {
   "cell_type": "code",
   "execution_count": 22,
   "id": "0149a682-b615-4490-9f0f-102208ccd58c",
   "metadata": {},
   "outputs": [],
   "source": [
    "df.model = df.groupby(['make', 'body_type'])['model']\\\n",
    "    .transform(lambda x: x.fillna(x.mode()[0] if len(x.mode()) > 0 else np.nan))"
   ]
  },
  {
   "cell_type": "code",
   "execution_count": 28,
   "id": "961db397-3358-4a6f-b6e2-f6f0b9865aa9",
   "metadata": {},
   "outputs": [
    {
     "data": {
      "text/plain": [
       "0"
      ]
     },
     "execution_count": 28,
     "metadata": {},
     "output_type": "execute_result"
    }
   ],
   "source": [
    "df.model.isnull().sum()"
   ]
  },
  {
   "cell_type": "code",
   "execution_count": 24,
   "id": "c39f4660-469e-44e3-bced-b79ca2791de6",
   "metadata": {},
   "outputs": [],
   "source": [
    "df.doors.fillna(df.groupby([\"body_type\"])[\"doors\"].transform(lambda x: x.fillna(x.mode()[0])), inplace=True)"
   ]
  },
  {
   "cell_type": "code",
   "execution_count": 26,
   "id": "3a8818c9-1a1d-435e-9922-bf377169488e",
   "metadata": {},
   "outputs": [
    {
     "data": {
      "text/plain": [
       "0"
      ]
     },
     "execution_count": 26,
     "metadata": {},
     "output_type": "execute_result"
    }
   ],
   "source": [
    "df.doors.isnull().sum()"
   ]
  },
  {
   "cell_type": "code",
   "execution_count": 30,
   "id": "86d985f2-8bbb-4c2e-be66-1c27d7b8f906",
   "metadata": {},
   "outputs": [],
   "source": [
    "df.country_version = df.groupby(['make', 'first_registration'], group_keys=False)['country_version']\\\n",
    "        .transform(lambda x: x.fillna(x.mode()[0]) if len(x.mode()) > 0 else x)"
   ]
  },
  {
   "cell_type": "code",
   "execution_count": 32,
   "id": "9d74b180-356f-4b01-bc5b-61467bc437df",
   "metadata": {},
   "outputs": [
    {
     "data": {
      "text/plain": [
       "1986"
      ]
     },
     "execution_count": 32,
     "metadata": {},
     "output_type": "execute_result"
    }
   ],
   "source": [
    "df.country_version.isnull().sum()"
   ]
  },
  {
   "cell_type": "code",
   "execution_count": 34,
   "id": "f770feb7-cef4-4b72-b57e-9e73a62a60d6",
   "metadata": {},
   "outputs": [],
   "source": [
    "df.country_version = df.groupby(['make', 'engine_size'], group_keys=False)['country_version']\\\n",
    "        .transform(lambda x: x.fillna(x.mode()[0]) if len(x.mode()) > 0 else x)"
   ]
  },
  {
   "cell_type": "code",
   "execution_count": 36,
   "id": "527d0949-acb9-40ad-88f1-ed49ad5c9ae9",
   "metadata": {},
   "outputs": [
    {
     "data": {
      "text/plain": [
       "1453"
      ]
     },
     "execution_count": 36,
     "metadata": {},
     "output_type": "execute_result"
    }
   ],
   "source": [
    "df.country_version.isnull().sum()"
   ]
  },
  {
   "cell_type": "code",
   "execution_count": 38,
   "id": "62360aaf-d90a-4e1e-8dc0-814107a55291",
   "metadata": {},
   "outputs": [],
   "source": [
    "df.country_version = df.groupby(['make', 'body_type'], group_keys=False)['country_version']\\\n",
    "        .transform(lambda x: x.fillna(x.mode()[0]) if len(x.mode()) > 0 else x)"
   ]
  },
  {
   "cell_type": "code",
   "execution_count": 40,
   "id": "87a66062-9297-474f-8894-abecd2081a0e",
   "metadata": {},
   "outputs": [
    {
     "data": {
      "text/plain": [
       "0"
      ]
     },
     "execution_count": 40,
     "metadata": {},
     "output_type": "execute_result"
    }
   ],
   "source": [
    "df.country_version.isnull().sum()"
   ]
  },
  {
   "cell_type": "code",
   "execution_count": 42,
   "id": "8c8a956e-90ab-44e5-930c-a53b6326603c",
   "metadata": {},
   "outputs": [],
   "source": [
    "def converter_warranty(warranty):\n",
    "    if warranty == 'Yes':\n",
    "        return warranty\n",
    "    else:\n",
    "        return np.nan    "
   ]
  },
  {
   "cell_type": "code",
   "execution_count": 44,
   "id": "559a25d8-2986-48c9-afc4-d35865327934",
   "metadata": {},
   "outputs": [],
   "source": [
    "df['location_country'] = df.location.str.split(',').map(lambda x: x[-1] if x else x)"
   ]
  },
  {
   "cell_type": "code",
   "execution_count": 46,
   "id": "d305511f-1000-4113-9cd5-1d2127d1a31d",
   "metadata": {},
   "outputs": [],
   "source": [
    "df.warranty = df.warranty.map(converter_warranty)"
   ]
  },
  {
   "cell_type": "code",
   "execution_count": 48,
   "id": "e5b923b3-eea4-405d-ab18-b2c5698c0372",
   "metadata": {},
   "outputs": [
    {
     "data": {
      "text/plain": [
       "warranty\n",
       "NaN    26311\n",
       "Yes     2319\n",
       "Name: count, dtype: int64"
      ]
     },
     "execution_count": 48,
     "metadata": {},
     "output_type": "execute_result"
    }
   ],
   "source": [
    "df.warranty.value_counts(dropna=False)"
   ]
  },
  {
   "cell_type": "code",
   "execution_count": 50,
   "id": "af9f5dcd-a748-40f8-94e1-09782a604d76",
   "metadata": {},
   "outputs": [],
   "source": [
    "df.warranty = df.groupby(['make', 'model', 'location_country'], group_keys = False)['warranty']\\\n",
    "        .transform(lambda x: x.fillna(x.mode()[0]) if len(x.mode()) > 0 else x)"
   ]
  },
  {
   "cell_type": "code",
   "execution_count": 52,
   "id": "f29248f1-e26e-4b6c-bd7a-0ff750ef8893",
   "metadata": {},
   "outputs": [
    {
     "data": {
      "text/plain": [
       "warranty\n",
       "Yes    15597\n",
       "NaN    13033\n",
       "Name: count, dtype: int64"
      ]
     },
     "execution_count": 52,
     "metadata": {},
     "output_type": "execute_result"
    }
   ],
   "source": [
    "df.warranty.value_counts(dropna=False)"
   ]
  },
  {
   "cell_type": "code",
   "execution_count": 54,
   "id": "d6969dca-c2f7-40d6-b7d6-f195666a3506",
   "metadata": {},
   "outputs": [],
   "source": [
    "df.warranty.replace(np.nan, 'No', inplace=True)"
   ]
  },
  {
   "cell_type": "code",
   "execution_count": 56,
   "id": "e5437949-0488-45de-bddd-7a1412e6d2a5",
   "metadata": {},
   "outputs": [
    {
     "data": {
      "text/plain": [
       "warranty\n",
       "Yes    15597\n",
       "No     13033\n",
       "Name: count, dtype: int64"
      ]
     },
     "execution_count": 56,
     "metadata": {},
     "output_type": "execute_result"
    }
   ],
   "source": [
    "df.warranty.value_counts(dropna=False)"
   ]
  },
  {
   "cell_type": "code",
   "execution_count": 58,
   "id": "9887ca15-901b-433b-8459-0c1d0a703245",
   "metadata": {},
   "outputs": [
    {
     "data": {
      "text/html": [
       "<div>\n",
       "<style scoped>\n",
       "    .dataframe tbody tr th:only-of-type {\n",
       "        vertical-align: middle;\n",
       "    }\n",
       "\n",
       "    .dataframe tbody tr th {\n",
       "        vertical-align: top;\n",
       "    }\n",
       "\n",
       "    .dataframe thead th {\n",
       "        text-align: right;\n",
       "    }\n",
       "</style>\n",
       "<table border=\"1\" class=\"dataframe\">\n",
       "  <thead>\n",
       "    <tr style=\"text-align: right;\">\n",
       "      <th></th>\n",
       "      <th>make_model</th>\n",
       "      <th>short_description</th>\n",
       "      <th>make</th>\n",
       "      <th>model</th>\n",
       "      <th>location</th>\n",
       "      <th>price</th>\n",
       "      <th>body_type</th>\n",
       "      <th>type</th>\n",
       "      <th>doors</th>\n",
       "      <th>country_version</th>\n",
       "      <th>warranty</th>\n",
       "      <th>mileage</th>\n",
       "      <th>first_registration</th>\n",
       "      <th>gearbox</th>\n",
       "      <th>fuel_type</th>\n",
       "      <th>colour</th>\n",
       "      <th>paint</th>\n",
       "      <th>seller</th>\n",
       "      <th>seats</th>\n",
       "      <th>engine_size</th>\n",
       "      <th>gears</th>\n",
       "      <th>co_emissions</th>\n",
       "      <th>manufacturer_colour</th>\n",
       "      <th>drivetrain</th>\n",
       "      <th>cylinders</th>\n",
       "      <th>comfort_&amp;_convenience</th>\n",
       "      <th>entertainment_&amp;_media</th>\n",
       "      <th>safety_&amp;_security</th>\n",
       "      <th>extras</th>\n",
       "      <th>empty_weight</th>\n",
       "      <th>general_inspection</th>\n",
       "      <th>full_service_history</th>\n",
       "      <th>non_smoker_vehicle</th>\n",
       "      <th>emission_class</th>\n",
       "      <th>emissions_sticker</th>\n",
       "      <th>upholstery_colour</th>\n",
       "      <th>upholstery</th>\n",
       "      <th>previous_owner</th>\n",
       "      <th>other_fuel_types</th>\n",
       "      <th>energy_efficiency_class</th>\n",
       "      <th>age</th>\n",
       "      <th>power_kW</th>\n",
       "      <th>horse_power</th>\n",
       "      <th>f_consumption_per_100_combined</th>\n",
       "      <th>comfort_convenience_pack</th>\n",
       "      <th>safety_security_pack</th>\n",
       "      <th>entertainment_pack</th>\n",
       "      <th>extra_pack</th>\n",
       "      <th>location_country</th>\n",
       "    </tr>\n",
       "  </thead>\n",
       "  <tbody>\n",
       "    <tr>\n",
       "      <th>10870</th>\n",
       "      <td>Fiat 500X</td>\n",
       "      <td>1.5 Hybrid Cabrio Automaat Yacht Club Capri</td>\n",
       "      <td>Fiat</td>\n",
       "      <td>500X</td>\n",
       "      <td>Cruquiusweg 35,  2102 LS HEEMSTEDE, NL</td>\n",
       "      <td>41570.0</td>\n",
       "      <td>Off-Road/Pick-up</td>\n",
       "      <td>Demonstration</td>\n",
       "      <td>5.0</td>\n",
       "      <td>Netherlands</td>\n",
       "      <td>Yes</td>\n",
       "      <td>NaN</td>\n",
       "      <td>06/2022</td>\n",
       "      <td>Automatic</td>\n",
       "      <td>NaN</td>\n",
       "      <td>Blue</td>\n",
       "      <td>Metallic</td>\n",
       "      <td>Dealer</td>\n",
       "      <td>5.0</td>\n",
       "      <td>1.4</td>\n",
       "      <td>7.0</td>\n",
       "      <td>NaN</td>\n",
       "      <td>Blauw Metallic</td>\n",
       "      <td>NaN</td>\n",
       "      <td>4.0</td>\n",
       "      <td>Air conditioning, Armrest, Automatic climate c...</td>\n",
       "      <td>Android Auto, Apple CarPlay, Radio</td>\n",
       "      <td>ABS, Central door lock, Central door lock with...</td>\n",
       "      <td>Alloy wheels, Electronic parking brake, Emerge...</td>\n",
       "      <td>1380.0</td>\n",
       "      <td>NaN</td>\n",
       "      <td>NaN</td>\n",
       "      <td>NaN</td>\n",
       "      <td>NaN</td>\n",
       "      <td>NaN</td>\n",
       "      <td>Beige</td>\n",
       "      <td>Full Leather</td>\n",
       "      <td>NaN</td>\n",
       "      <td>Electricity</td>\n",
       "      <td>NaN</td>\n",
       "      <td>0.0</td>\n",
       "      <td>96.0</td>\n",
       "      <td>131.0</td>\n",
       "      <td>NaN</td>\n",
       "      <td>Premium</td>\n",
       "      <td>Standard</td>\n",
       "      <td>Standard</td>\n",
       "      <td>Standard</td>\n",
       "      <td>NL</td>\n",
       "    </tr>\n",
       "  </tbody>\n",
       "</table>\n",
       "</div>"
      ],
      "text/plain": [
       "      make_model                            short_description  make model  \\\n",
       "10870  Fiat 500X  1.5 Hybrid Cabrio Automaat Yacht Club Capri  Fiat  500X   \n",
       "\n",
       "                                     location    price         body_type  \\\n",
       "10870  Cruquiusweg 35,  2102 LS HEEMSTEDE, NL  41570.0  Off-Road/Pick-up   \n",
       "\n",
       "                type  doors country_version warranty  mileage  \\\n",
       "10870  Demonstration    5.0     Netherlands      Yes      NaN   \n",
       "\n",
       "      first_registration    gearbox fuel_type colour     paint  seller  seats  \\\n",
       "10870            06/2022  Automatic       NaN   Blue  Metallic  Dealer    5.0   \n",
       "\n",
       "       engine_size  gears  co_emissions manufacturer_colour drivetrain  \\\n",
       "10870          1.4    7.0           NaN      Blauw Metallic        NaN   \n",
       "\n",
       "       cylinders                              comfort_&_convenience  \\\n",
       "10870        4.0  Air conditioning, Armrest, Automatic climate c...   \n",
       "\n",
       "                    entertainment_&_media  \\\n",
       "10870  Android Auto, Apple CarPlay, Radio   \n",
       "\n",
       "                                       safety_&_security  \\\n",
       "10870  ABS, Central door lock, Central door lock with...   \n",
       "\n",
       "                                                  extras  empty_weight  \\\n",
       "10870  Alloy wheels, Electronic parking brake, Emerge...        1380.0   \n",
       "\n",
       "      general_inspection full_service_history non_smoker_vehicle  \\\n",
       "10870                NaN                  NaN                NaN   \n",
       "\n",
       "      emission_class emissions_sticker upholstery_colour    upholstery  \\\n",
       "10870            NaN               NaN             Beige  Full Leather   \n",
       "\n",
       "       previous_owner other_fuel_types energy_efficiency_class  age  power_kW  \\\n",
       "10870             NaN      Electricity                     NaN  0.0      96.0   \n",
       "\n",
       "       horse_power  f_consumption_per_100_combined comfort_convenience_pack  \\\n",
       "10870        131.0                             NaN                  Premium   \n",
       "\n",
       "      safety_security_pack entertainment_pack extra_pack location_country  \n",
       "10870             Standard           Standard   Standard               NL  "
      ]
     },
     "execution_count": 58,
     "metadata": {},
     "output_type": "execute_result"
    }
   ],
   "source": [
    "df[df.mileage.isnull()]"
   ]
  },
  {
   "cell_type": "code",
   "execution_count": 60,
   "id": "0a242a33-2597-4ad8-9ef1-4aee279b151c",
   "metadata": {},
   "outputs": [],
   "source": [
    "df.mileage.fillna(df.groupby(['make', 'age', 'location_country'], group_keys = False)['mileage']\\\n",
    "        .transform(lambda x: x.median()), inplace=True)"
   ]
  },
  {
   "cell_type": "code",
   "execution_count": 62,
   "id": "a033c782-e732-4518-b2ff-200510978553",
   "metadata": {},
   "outputs": [
    {
     "data": {
      "text/plain": [
       "0"
      ]
     },
     "execution_count": 62,
     "metadata": {},
     "output_type": "execute_result"
    }
   ],
   "source": [
    "df.mileage.isnull().sum()"
   ]
  },
  {
   "cell_type": "code",
   "execution_count": 64,
   "id": "fa8d15fa-2569-42ec-94a0-82585aee321a",
   "metadata": {},
   "outputs": [],
   "source": [
    "df.first_registration = df.first_registration.str.split('/').map(lambda x: x[1] if type(x) == list else x)"
   ]
  },
  {
   "cell_type": "code",
   "execution_count": 66,
   "id": "9b7e2d34-2fe4-4bc8-87b6-9b04458b88ae",
   "metadata": {},
   "outputs": [],
   "source": [
    "df.first_registration = df.first_registration.astype('float')"
   ]
  },
  {
   "cell_type": "code",
   "execution_count": 68,
   "id": "f529057c-01d8-48ef-8b1b-b74b2d5e5abb",
   "metadata": {},
   "outputs": [
    {
     "data": {
      "text/plain": [
       "2"
      ]
     },
     "execution_count": 68,
     "metadata": {},
     "output_type": "execute_result"
    }
   ],
   "source": [
    "df.first_registration.isnull().sum()"
   ]
  },
  {
   "cell_type": "code",
   "execution_count": 70,
   "id": "1696c4ef-33e0-434c-9cc0-83f1d5d83534",
   "metadata": {},
   "outputs": [],
   "source": [
    "df.first_registration = df.first_registration.fillna(df.groupby(['country_version', 'make', 'model'], group_keys=False)\\\n",
    "            ['first_registration'].transform(lambda x: x.median()))"
   ]
  },
  {
   "cell_type": "code",
   "execution_count": 72,
   "id": "2cebf49c-3a90-439d-a2da-f9a2f20d516d",
   "metadata": {},
   "outputs": [
    {
     "data": {
      "text/plain": [
       "0"
      ]
     },
     "execution_count": 72,
     "metadata": {},
     "output_type": "execute_result"
    }
   ],
   "source": [
    "df.first_registration.isnull().sum()"
   ]
  },
  {
   "cell_type": "code",
   "execution_count": 74,
   "id": "93d44a08-793b-4b31-9f72-41f44df96936",
   "metadata": {},
   "outputs": [
    {
     "data": {
      "text/plain": [
       "0        2016.0\n",
       "1        2022.0\n",
       "2        2020.0\n",
       "3        2020.0\n",
       "4        2015.0\n",
       "          ...  \n",
       "29474    2019.0\n",
       "29475    2004.0\n",
       "29476    2011.0\n",
       "29477    2017.0\n",
       "29478    2002.0\n",
       "Name: first_registration, Length: 28630, dtype: float64"
      ]
     },
     "execution_count": 74,
     "metadata": {},
     "output_type": "execute_result"
    }
   ],
   "source": [
    "df.first_registration"
   ]
  },
  {
   "cell_type": "code",
   "execution_count": 80,
   "id": "91a7c975-6cb9-448e-b1b9-6ceacd765029",
   "metadata": {},
   "outputs": [
    {
     "data": {
      "text/plain": [
       "gearbox\n",
       "Manual            17023\n",
       "Automatic         11287\n",
       "NaN                 248\n",
       "Semi-automatic       72\n",
       "Name: count, dtype: int64"
      ]
     },
     "execution_count": 80,
     "metadata": {},
     "output_type": "execute_result"
    }
   ],
   "source": [
    "df.gearbox.value_counts(dropna=False)"
   ]
  },
  {
   "cell_type": "code",
   "execution_count": 82,
   "id": "ec08e88a-1f9f-4fab-8db1-744cdecc45e9",
   "metadata": {},
   "outputs": [],
   "source": [
    "automatic = df.loc[df[df.gearbox.isnull()].index, 'short_description'].str.contains(\"Automati|automati\")"
   ]
  },
  {
   "cell_type": "code",
   "execution_count": 84,
   "id": "0fd2a022-84da-4f7d-88e9-ca4266d05cee",
   "metadata": {},
   "outputs": [],
   "source": [
    "auto_index = automatic[automatic == True].index"
   ]
  },
  {
   "cell_type": "code",
   "execution_count": 86,
   "id": "53e60641-f154-41c0-92d4-d058fe431334",
   "metadata": {},
   "outputs": [],
   "source": [
    "df.loc[auto_index, 'gearbox'] = 'Automatic'"
   ]
  },
  {
   "cell_type": "code",
   "execution_count": 88,
   "id": "bb56e175-54f8-452c-bf2b-9d9787317f4d",
   "metadata": {},
   "outputs": [],
   "source": [
    "manual = df.loc[df[df.gearbox.isnull()].index, 'short_description'].str.contains(\"Manual|manual\")"
   ]
  },
  {
   "cell_type": "code",
   "execution_count": 90,
   "id": "5693eaa7-3635-4b84-a264-e74550530f07",
   "metadata": {},
   "outputs": [],
   "source": [
    "manual_index = manual[manual == True].index"
   ]
  },
  {
   "cell_type": "code",
   "execution_count": 92,
   "id": "63105d27-f557-4c67-acdd-719815f56f45",
   "metadata": {},
   "outputs": [],
   "source": [
    "df.loc[manual_index, 'gearbox'] = 'Manual'"
   ]
  },
  {
   "cell_type": "code",
   "execution_count": 94,
   "id": "91fa1fac-b301-4593-a05f-3f75f179c19d",
   "metadata": {},
   "outputs": [
    {
     "data": {
      "text/plain": [
       "243"
      ]
     },
     "execution_count": 94,
     "metadata": {},
     "output_type": "execute_result"
    }
   ],
   "source": [
    "df.gearbox.isnull().sum()"
   ]
  },
  {
   "cell_type": "code",
   "execution_count": 96,
   "id": "ff006257-0a0f-4974-b169-a52726e3585c",
   "metadata": {},
   "outputs": [],
   "source": [
    "df.gearbox = df.groupby(['make'], group_keys=False)['gearbox'].transform(lambda x: x.mode()[0])"
   ]
  },
  {
   "cell_type": "code",
   "execution_count": 98,
   "id": "404058f7-f9a8-4d71-a141-90a7e0848e7e",
   "metadata": {},
   "outputs": [
    {
     "data": {
      "text/plain": [
       "0"
      ]
     },
     "execution_count": 98,
     "metadata": {},
     "output_type": "execute_result"
    }
   ],
   "source": [
    "df.gearbox.isnull().sum()"
   ]
  },
  {
   "cell_type": "code",
   "execution_count": 100,
   "id": "3e50f06d-a7ef-4542-917f-a6753fd77585",
   "metadata": {
    "scrolled": true
   },
   "outputs": [
    {
     "data": {
      "text/plain": [
       "fuel_type\n",
       "Gasoline                                                                                              8532\n",
       "Diesel                                                                                                5911\n",
       "Super 95                                                                                              3557\n",
       "Diesel (Particle filter)                                                                              2816\n",
       "Regular/Benzine 91                                                                                    2065\n",
       "Super E10 95                                                                                          1016\n",
       "Regular/Benzine 91 (Particle filter)                                                                   555\n",
       "Super 95 (Particle filter)                                                                             537\n",
       "Super E10 95 (Particle filter)                                                                         324\n",
       "Regular/Benzine E10 91                                                                                 278\n",
       "Others                                                                                                 197\n",
       "Gasoline (Particle filter)                                                                             196\n",
       "Electric                                                                                               185\n",
       "Super Plus 98                                                                                          170\n",
       "Liquid petroleum gas (LPG)                                                                             148\n",
       "CNG                                                                                                     87\n",
       "LPG                                                                                                     73\n",
       "Super Plus E10 98                                                                                       42\n",
       "Super Plus E10 98 (Particle filter)                                                                     35\n",
       "Domestic gas H                                                                                          24\n",
       "Others (Particle filter)                                                                                16\n",
       "Super Plus 98 (Particle filter)                                                                         15\n",
       "Domestic gas L                                                                                          10\n",
       "Regular/Benzine E10 91 (Particle filter)                                                                 8\n",
       "CNG (Particle filter)                                                                                    8\n",
       "LPG (Particle filter)                                                                                    4\n",
       "Hydrogen                                                                                                 3\n",
       "Liquid petroleum gas (LPG) (Particle filter) / Super 95 / Super E10 95                                   3\n",
       "Electric (Particle filter)                                                                               3\n",
       "Ethanol                                                                                                  3\n",
       "Liquid petroleum gas (LPG) / Super 95 / Super Plus 98 / Super Plus E10 98 / Super E10 95                 2\n",
       "Liquid petroleum gas (LPG) / Super 95 / Super E10 95 / Super Plus 98                                     2\n",
       "Liquid petroleum gas (LPG) / Super 95                                                                    2\n",
       "Liquid petroleum gas (LPG) (Particle filter)                                                             2\n",
       "Domestic gas L (Particle filter)                                                                         2\n",
       "Liquid petroleum gas (LPG) / Super 95 / Super E10 95                                                     2\n",
       "Domestic gas H / Super E10 95 / Super Plus E10 98 / Super 95 / Super Plus 98 / Domestic gas L            1\n",
       "Domestic gas L / Super 95 / Domestic gas H                                                               1\n",
       "Super 95 / Super Plus 98 / Liquid petroleum gas (LPG)                                                    1\n",
       "Biogas                                                                                                   1\n",
       "Liquid petroleum gas (LPG) / Super 95 / Super Plus 98                                                    1\n",
       "Liquid petroleum gas (LPG) / Super E10 95                                                                1\n",
       "Liquid petroleum gas (LPG) / Super E10 95 / Super Plus E10 98 / Super Plus 98 / Super 95                 1\n",
       "Liquid petroleum gas (LPG) / Super E10 95 / Regular/Benzine 91 / Super 95 / Super Plus 98 / Biogas       1\n",
       "Super 95 (Particle filter) / Super E10 95 / Ethanol                                                      1\n",
       "Super 95 / Liquid petroleum gas (LPG)                                                                    1\n",
       "Name: count, dtype: int64"
      ]
     },
     "execution_count": 100,
     "metadata": {},
     "output_type": "execute_result"
    }
   ],
   "source": [
    "df.fuel_type.value_counts()"
   ]
  },
  {
   "cell_type": "code",
   "execution_count": 102,
   "id": "dc5b47c9-ffec-4ef0-b19e-6f55ba37f1a1",
   "metadata": {},
   "outputs": [],
   "source": [
    "fuel_types ={\n",
    "        \"Benzine\" : [\"Gasoline\", \n",
    "                    \"Gasoline (Particle filter)\",\n",
    "                    \"Super 95\",\n",
    "                    \"Super E10 95\", \n",
    "                    \"Super Plus 98\",\n",
    "                    \"Super Plus E10 98\",\n",
    "                    \"Super Plus E10 98 (Particle filter)\",                     \n",
    "                    \"Super 95 (Particle filter)\",\n",
    "                    \"Super E10 95 (Particle filter)\",\n",
    "                    \"Super Plus 98(Particle filter)\", \n",
    "                    \"Regular/Benzine 91\"\n",
    "                    \"Regular/Benzine E10 91\",\n",
    "                    \"Regular/Benzine 91 (Particle filter)\", \n",
    "                    \"Regular/Benzine E10 91(Particle filter)\"\n",
    "                   ],\n",
    "    \n",
    "        \"Lpg\" : [\"Super 95 / Super Plus 98 / Liquid petroleum gas (LPG)\",                 \n",
    "                 \"Super 95 / Liquid petroleum gas (LPG)\",\n",
    "                 \"Liquid petroleum gas (LPG) / Super 95\",\n",
    "                 \"Liquid petroleum gas (LPG) / Super 95 / Super Plus 98\",\n",
    "                 \"Liquid petroleum gas (LPG) / Super 95 / Super Plus 98 / Super Plus E10 98 / Super E10 95\",\n",
    "                 \"Liquid petroleum gas (LPG) / Super E10 95\",\n",
    "                 \n",
    "                 \"Liquid petroleum gas (LPG) / Super E10 95 / Super Plus E10 98 / Super Plus 98 / Super 95\",\n",
    "                 \"Liquid petroleum gas (LPG) / Super E10 95 / Regular/Benzine 91 / Super 95 / Super Plus 98 / Biogas\", \n",
    "                 \"Liquid petroleum gas (LPG) / Super 95 / Super E10 95 / Super Plus 98\",\n",
    "                 \n",
    "                 \"Liquid petroleum gas (LPG) / Super 95 / Super E10 95\",\n",
    "                 \"Liquid petroleum gas (LPG)(Particle filter) / Super 95 / Super E10 95\",\n",
    "                 \"LPG\",\n",
    "                 \"LPG (Particle filter)\",\n",
    "                 \"Liquid petroleum gas (LPG) (Particle filter)\", \n",
    "                 \"Liquid petroleum gas (LPG)\",\n",
    "                ],\n",
    "    \n",
    "        \"Others\" : [\"CNG\", \n",
    "                    \"CNG (Particle filter)\",\n",
    "                    \"Domestic gas H\",\n",
    "                    \"Super 95 (Particle filter) / Super E10 95 / Ethanol\",\n",
    "                    \"Domestic gas L\",\n",
    "                    \"Domestic gas L (Particle filter)\",\n",
    "                    \"Domestic gas H (Particle filter)\",\n",
    "                    \"Hydrogen\",\n",
    "                    \"Biogas\",\n",
    "                    \"Super Plus E10 98 / Super E10 95 / Regular/Benzine 91 / Super 95 / Super Plus 98 / Biogas\",                    \n",
    "                    \"Domestic gas H / Super E10 95 / Super Plus E10 98 / Super 95 / Super Plus 98 / Domestic gas L\",\n",
    "                    \"Domestic gas L / Super 95 / Domestic gas H\",\n",
    "                    \"Ethanol\",\n",
    "                    \"Others\",\n",
    "                    \"Others (Particle filter)\"\n",
    "                    ],\n",
    "   \n",
    "        \"Electric\" : [\"Electric\",\n",
    "                      \"Electric (Particle filter)\",\n",
    "],\n",
    "    \n",
    "        \"Diesel\" : [\"Diesel\",\n",
    "                    \"Diesel(Particle filter)\"]}"
   ]
  },
  {
   "cell_type": "code",
   "execution_count": 104,
   "id": "536dd13b-580c-48a6-863a-22162126236f",
   "metadata": {},
   "outputs": [],
   "source": [
    "df.loc[df.fuel_type.str.match(\"Gasoline\") == True, \"fuel_type\"] = \"Benzine\"\n",
    "df.loc[df.fuel_type.str.match(\"Regular\") == True, \"fuel_type\"] = \"Benzine\"\n",
    "df.loc[(~df.fuel_type.astype(str).str.contains(\"LPG\", na=False)) & df.fuel_type.astype(str).str.match(\"Super.*[^l]$\"), \"fuel_type\"] = \"Benzine\""
   ]
  },
  {
   "cell_type": "code",
   "execution_count": 106,
   "id": "53d6550c-2d74-4b16-9645-e21ed487249d",
   "metadata": {},
   "outputs": [],
   "source": [
    "df.loc[(df.fuel_type.astype(str).str.contains(\"LPG\")), \"fuel_type\"] = \"Lpg\""
   ]
  },
  {
   "cell_type": "code",
   "execution_count": 108,
   "id": "c5d1e0ba-3965-4988-8e3e-916f8907e4b1",
   "metadata": {},
   "outputs": [],
   "source": [
    "df.loc[df.fuel_type.astype(str).str.contains(\"Electric\"), \"fuel_type\"] = \"Electric\""
   ]
  },
  {
   "cell_type": "code",
   "execution_count": 110,
   "id": "d3319763-ceb2-4403-9e63-e2c9c0047a9d",
   "metadata": {},
   "outputs": [],
   "source": [
    "df.loc[df.fuel_type.astype(str).str.contains(\"Diesel\"), \"fuel_type\"] = \"Diesel\""
   ]
  },
  {
   "cell_type": "code",
   "execution_count": 112,
   "id": "26448fd2-3f9e-418b-9028-8188cf05b1de",
   "metadata": {},
   "outputs": [],
   "source": [
    "df.loc[df.fuel_type.astype(str).str.contains(\"CNG|Hydrogen|^Biogas|Domestic|Ethanol|Others\"), \"fuel_type\"] = \"Others\""
   ]
  },
  {
   "cell_type": "code",
   "execution_count": 114,
   "id": "49126d49-972a-4aac-8b4a-d86d849ecabd",
   "metadata": {},
   "outputs": [
    {
     "data": {
      "text/plain": [
       "fuel_type\n",
       "Benzine     17330\n",
       "Diesel       8727\n",
       "NaN          1787\n",
       "Others        354\n",
       "Lpg           244\n",
       "Electric      188\n",
       "Name: count, dtype: int64"
      ]
     },
     "execution_count": 114,
     "metadata": {},
     "output_type": "execute_result"
    }
   ],
   "source": [
    "df.fuel_type.value_counts(dropna=False)"
   ]
  },
  {
   "cell_type": "code",
   "execution_count": 116,
   "id": "54109f14-fa93-4597-8cdf-a2f31a5b9b56",
   "metadata": {},
   "outputs": [],
   "source": [
    "hybrid = df.loc[df[df.fuel_type.isnull()].index, 'short_description'].str.contains('Hybrid|hybrid|hbr')"
   ]
  },
  {
   "cell_type": "code",
   "execution_count": 118,
   "id": "2493e4e7-3278-4c74-9e8e-0fe5c117b15b",
   "metadata": {},
   "outputs": [],
   "source": [
    "hybrid_index = hybrid[hybrid == True].index"
   ]
  },
  {
   "cell_type": "code",
   "execution_count": 120,
   "id": "324ab07f-58a1-4335-a7ea-3a29d53b41b9",
   "metadata": {},
   "outputs": [],
   "source": [
    "df.loc[hybrid_index, \"fuel_type\"] = \"Hybrid\""
   ]
  },
  {
   "cell_type": "code",
   "execution_count": 122,
   "id": "a0d484fa-ff9d-4424-b62b-b57809467966",
   "metadata": {},
   "outputs": [
    {
     "data": {
      "text/plain": [
       "fuel_type\n",
       "Benzine     17330\n",
       "Diesel       8727\n",
       "NaN          1094\n",
       "Hybrid        693\n",
       "Others        354\n",
       "Lpg           244\n",
       "Electric      188\n",
       "Name: count, dtype: int64"
      ]
     },
     "execution_count": 122,
     "metadata": {},
     "output_type": "execute_result"
    }
   ],
   "source": [
    "df.fuel_type.value_counts(dropna=False)"
   ]
  },
  {
   "cell_type": "code",
   "execution_count": 124,
   "id": "15d5bfec-b29d-45fc-b08c-90fe82619e12",
   "metadata": {},
   "outputs": [],
   "source": [
    "benzine = df.loc[df[df.fuel_type.isnull()].index, 'short_description'].str.contains('Benzin|Gasol|benzin|gasol')"
   ]
  },
  {
   "cell_type": "code",
   "execution_count": 126,
   "id": "bcd664bb-1066-445d-9d33-cce60ccac5b4",
   "metadata": {},
   "outputs": [],
   "source": [
    "benzine_index = benzine[benzine==True].index"
   ]
  },
  {
   "cell_type": "code",
   "execution_count": 128,
   "id": "19d31822-525a-4e22-b893-566e84901cef",
   "metadata": {},
   "outputs": [],
   "source": [
    "df.loc[benzine_index, \"fuel_type\"] = \"Benzine\""
   ]
  },
  {
   "cell_type": "code",
   "execution_count": 130,
   "id": "ae0c1387-d1e5-409a-9390-66740a1255d9",
   "metadata": {},
   "outputs": [
    {
     "data": {
      "text/plain": [
       "fuel_type\n",
       "Benzine     17331\n",
       "Diesel       8727\n",
       "NaN          1093\n",
       "Hybrid        693\n",
       "Others        354\n",
       "Lpg           244\n",
       "Electric      188\n",
       "Name: count, dtype: int64"
      ]
     },
     "execution_count": 130,
     "metadata": {},
     "output_type": "execute_result"
    }
   ],
   "source": [
    "df.fuel_type.value_counts(dropna=False)"
   ]
  },
  {
   "cell_type": "code",
   "execution_count": 132,
   "id": "c3135fd1-7ed5-4f9a-896c-cea26ab756d3",
   "metadata": {},
   "outputs": [],
   "source": [
    "electric = df.loc[df[df.fuel_type.isnull()].index, 'short_description'].str.contains('kwh|kWh|KWH|kw|KWh|elect|Electri')"
   ]
  },
  {
   "cell_type": "code",
   "execution_count": 134,
   "id": "606eebe9-403f-4f1d-bb1f-872a211f2c34",
   "metadata": {},
   "outputs": [],
   "source": [
    "electric_index = electric[electric==True].index"
   ]
  },
  {
   "cell_type": "code",
   "execution_count": 136,
   "id": "8af263f0-f2e9-4972-9fc3-c21e2919f78f",
   "metadata": {},
   "outputs": [],
   "source": [
    "df.loc[electric_index, \"fuel_type\"] = \"Electric\""
   ]
  },
  {
   "cell_type": "code",
   "execution_count": 138,
   "id": "c94eb5e7-200c-4367-b58a-bc2c4ba203ca",
   "metadata": {},
   "outputs": [
    {
     "data": {
      "text/plain": [
       "fuel_type\n",
       "Benzine     17331\n",
       "Diesel       8727\n",
       "NaN           945\n",
       "Hybrid        693\n",
       "Others        354\n",
       "Electric      336\n",
       "Lpg           244\n",
       "Name: count, dtype: int64"
      ]
     },
     "execution_count": 138,
     "metadata": {},
     "output_type": "execute_result"
    }
   ],
   "source": [
    "df.fuel_type.value_counts(dropna=False)"
   ]
  },
  {
   "cell_type": "code",
   "execution_count": 140,
   "id": "7f6c29d2-487f-493b-8aa2-052ba8525cdb",
   "metadata": {},
   "outputs": [],
   "source": [
    "df.fuel_type = df.fuel_type.fillna(df.groupby([\"body_type\", \"make\"])[\"fuel_type\"].transform(lambda x: x.mode()[0]))"
   ]
  },
  {
   "cell_type": "code",
   "execution_count": 142,
   "id": "b825bc78-0d4e-43a1-b921-a7ca6a177720",
   "metadata": {},
   "outputs": [
    {
     "data": {
      "text/plain": [
       "fuel_type\n",
       "Benzine     17910\n",
       "Diesel       9048\n",
       "Hybrid        738\n",
       "Others        354\n",
       "Electric      336\n",
       "Lpg           244\n",
       "Name: count, dtype: int64"
      ]
     },
     "execution_count": 142,
     "metadata": {},
     "output_type": "execute_result"
    }
   ],
   "source": [
    "df.fuel_type.value_counts(dropna=False)"
   ]
  },
  {
   "cell_type": "code",
   "execution_count": 144,
   "id": "538745c3-b541-4376-8bea-ffca8f1eb926",
   "metadata": {},
   "outputs": [
    {
     "data": {
      "text/plain": [
       "1724"
      ]
     },
     "execution_count": 144,
     "metadata": {},
     "output_type": "execute_result"
    }
   ],
   "source": [
    "df.colour.isnull().sum()"
   ]
  },
  {
   "cell_type": "code",
   "execution_count": 146,
   "id": "6718ab02-a901-4edf-bcc1-0555b504ae03",
   "metadata": {},
   "outputs": [],
   "source": [
    "df.colour = df.colour.fillna(df.groupby(['make', 'body_type'])['colour'].transform(lambda x: x.mode()[0]))"
   ]
  },
  {
   "cell_type": "code",
   "execution_count": 148,
   "id": "65ff5dd2-5a0f-423c-8f5c-0b1384e5f091",
   "metadata": {},
   "outputs": [
    {
     "data": {
      "text/plain": [
       "0"
      ]
     },
     "execution_count": 148,
     "metadata": {},
     "output_type": "execute_result"
    }
   ],
   "source": [
    "df.colour.isnull().sum()"
   ]
  },
  {
   "cell_type": "code",
   "execution_count": 152,
   "id": "29e65609-0b92-4486-a675-330c040c26c4",
   "metadata": {},
   "outputs": [
    {
     "data": {
      "text/plain": [
       "paint\n",
       "Metallic     14494\n",
       "NaN          14135\n",
       "Uni/basic        1\n",
       "Name: count, dtype: int64"
      ]
     },
     "execution_count": 152,
     "metadata": {},
     "output_type": "execute_result"
    }
   ],
   "source": [
    "df.paint.value_counts(dropna=False)"
   ]
  },
  {
   "cell_type": "code",
   "execution_count": 154,
   "id": "6c039ac7-6794-4354-928c-aae75e5e9795",
   "metadata": {},
   "outputs": [],
   "source": [
    "metal = df.loc[df[df.paint.isnull()].index, 'manufacturer_colour'].str.contains('Metal|metal')"
   ]
  },
  {
   "cell_type": "code",
   "execution_count": 156,
   "id": "c9e7c85f-edf8-4270-a171-232434e97fd5",
   "metadata": {},
   "outputs": [],
   "source": [
    "metal_index = metal[metal==True].index"
   ]
  },
  {
   "cell_type": "code",
   "execution_count": 158,
   "id": "5f9c07ad-1fa6-4202-9bd7-f4d1fc512a0e",
   "metadata": {},
   "outputs": [],
   "source": [
    "df.loc[metal_index, \"paint\"] = \"Metallic\""
   ]
  },
  {
   "cell_type": "code",
   "execution_count": 160,
   "id": "0d14fc2d-e41f-4c79-be0c-fd235996a536",
   "metadata": {},
   "outputs": [
    {
     "data": {
      "text/plain": [
       "paint\n",
       "Metallic     14832\n",
       "NaN          13797\n",
       "Uni/basic        1\n",
       "Name: count, dtype: int64"
      ]
     },
     "execution_count": 160,
     "metadata": {},
     "output_type": "execute_result"
    }
   ],
   "source": [
    "df.paint.value_counts(dropna=False)"
   ]
  },
  {
   "cell_type": "code",
   "execution_count": 162,
   "id": "8295de51-9635-4464-ba1b-e6392130edcb",
   "metadata": {},
   "outputs": [],
   "source": [
    "df.paint.fillna('Uni/basic', inplace=True)"
   ]
  },
  {
   "cell_type": "code",
   "execution_count": 164,
   "id": "1aebe4e0-d243-4291-8f22-9aceb842b35a",
   "metadata": {},
   "outputs": [
    {
     "data": {
      "text/plain": [
       "paint\n",
       "Metallic     14832\n",
       "Uni/basic    13798\n",
       "Name: count, dtype: int64"
      ]
     },
     "execution_count": 164,
     "metadata": {},
     "output_type": "execute_result"
    }
   ],
   "source": [
    "df.paint.value_counts(dropna=False)"
   ]
  },
  {
   "cell_type": "code",
   "execution_count": 166,
   "id": "428db226-3d73-44eb-ac89-288a96bb3443",
   "metadata": {},
   "outputs": [
    {
     "data": {
      "text/plain": [
       "3125"
      ]
     },
     "execution_count": 166,
     "metadata": {},
     "output_type": "execute_result"
    }
   ],
   "source": [
    "df.seats.isnull().sum()"
   ]
  },
  {
   "cell_type": "code",
   "execution_count": 168,
   "id": "45cb3ffe-74c9-48f8-b994-3937b52c4e0e",
   "metadata": {},
   "outputs": [],
   "source": [
    "df.seats = df.groupby(['make', 'body_type'], group_keys = False)['seats'].\\\n",
    "    transform(lambda x: x.fillna(x.mode()[0]) if len(x.mode()) > 0 else x)"
   ]
  },
  {
   "cell_type": "code",
   "execution_count": 170,
   "id": "7e4f9d6e-c91e-46d1-991d-baeb326e0882",
   "metadata": {},
   "outputs": [
    {
     "data": {
      "text/plain": [
       "4"
      ]
     },
     "execution_count": 170,
     "metadata": {},
     "output_type": "execute_result"
    }
   ],
   "source": [
    "df.seats.isnull().sum()"
   ]
  },
  {
   "cell_type": "code",
   "execution_count": 172,
   "id": "426e8141-2904-4405-a53b-af7375d7ee1a",
   "metadata": {},
   "outputs": [],
   "source": [
    "df.seats = df.groupby(['body_type'], group_keys = False)['seats'].\\\n",
    "    transform(lambda x: x.fillna(x.mode()[0]) if len(x.mode()) > 0 else x)"
   ]
  },
  {
   "cell_type": "code",
   "execution_count": 174,
   "id": "9deb9f27-e71e-4a6c-b20d-5e1cec677d2f",
   "metadata": {},
   "outputs": [
    {
     "data": {
      "text/plain": [
       "0"
      ]
     },
     "execution_count": 174,
     "metadata": {},
     "output_type": "execute_result"
    }
   ],
   "source": [
    "df.seats.isnull().sum()"
   ]
  },
  {
   "cell_type": "code",
   "execution_count": 176,
   "id": "4c03e063-d470-4ddf-8a59-e44cc5822fb1",
   "metadata": {},
   "outputs": [
    {
     "data": {
      "text/plain": [
       "1403"
      ]
     },
     "execution_count": 176,
     "metadata": {},
     "output_type": "execute_result"
    }
   ],
   "source": [
    "df.engine_size.isnull().sum()"
   ]
  },
  {
   "cell_type": "code",
   "execution_count": 178,
   "id": "0d69f572-8735-4bdd-b8f8-85a5a1f4c4be",
   "metadata": {},
   "outputs": [],
   "source": [
    "df.loc[df[df[\"engine_size\"].isnull()].index, \"engine_size\"] = df.loc[df[df[\"engine_size\"].isnull()].index, \"short_description\"]\\\n",
    "                                                                .str.extract(\"(\\d+\\.\\d+)\").values.astype(float)"
   ]
  },
  {
   "cell_type": "code",
   "execution_count": 180,
   "id": "73713f1a-9498-484d-b3d0-0cf5fcd6607c",
   "metadata": {},
   "outputs": [
    {
     "data": {
      "text/plain": [
       "1027"
      ]
     },
     "execution_count": 180,
     "metadata": {},
     "output_type": "execute_result"
    }
   ],
   "source": [
    "df.engine_size.isnull().sum()"
   ]
  },
  {
   "cell_type": "code",
   "execution_count": 182,
   "id": "a3c301a2-c90b-4b15-9110-729cedf8db83",
   "metadata": {},
   "outputs": [],
   "source": [
    "df['engine_size'].fillna(df.groupby(['make', 'model', 'body_type'])['engine_size'].transform('median'), inplace=True)"
   ]
  },
  {
   "cell_type": "code",
   "execution_count": 184,
   "id": "36ea7ef0-472e-42fc-903a-f15a2508961d",
   "metadata": {},
   "outputs": [
    {
     "data": {
      "text/plain": [
       "190"
      ]
     },
     "execution_count": 184,
     "metadata": {},
     "output_type": "execute_result"
    }
   ],
   "source": [
    "df.engine_size.isnull().sum()"
   ]
  },
  {
   "cell_type": "code",
   "execution_count": 186,
   "id": "5b93cbf3-d5d8-4003-b1df-bceca9b74948",
   "metadata": {},
   "outputs": [],
   "source": [
    "df[\"engine_size\"].fillna(df.groupby([\"fuel_type\"])[\"engine_size\"].transform(\"median\"), inplace=True)"
   ]
  },
  {
   "cell_type": "code",
   "execution_count": 188,
   "id": "913ba3ad-d8f4-4e8a-b417-64b2b9253de0",
   "metadata": {},
   "outputs": [
    {
     "data": {
      "text/plain": [
       "0"
      ]
     },
     "execution_count": 188,
     "metadata": {},
     "output_type": "execute_result"
    }
   ],
   "source": [
    "df.engine_size.isnull().sum()"
   ]
  },
  {
   "cell_type": "code",
   "execution_count": 190,
   "id": "3c33855f-e8ae-483c-a9f2-0c7db27ae581",
   "metadata": {},
   "outputs": [
    {
     "data": {
      "text/plain": [
       "gears\n",
       "NaN     9676\n",
       "6.0     8412\n",
       "5.0     5335\n",
       "7.0     1738\n",
       "8.0     1690\n",
       "1.0      712\n",
       "9.0      642\n",
       "4.0      256\n",
       "10.0     112\n",
       "0.0       31\n",
       "3.0       24\n",
       "2.0        2\n",
       "Name: count, dtype: int64"
      ]
     },
     "execution_count": 190,
     "metadata": {},
     "output_type": "execute_result"
    }
   ],
   "source": [
    "df.gears.value_counts(dropna=False)"
   ]
  },
  {
   "cell_type": "code",
   "execution_count": 192,
   "id": "de461e08-1a92-41ca-877e-19f943da6c97",
   "metadata": {},
   "outputs": [],
   "source": [
    "some_gears = df.loc[df[df[\"gears\"].isnull()].index, \"short_description\"].str.extract(\"(\\d{1,2})[-]*G[ +-]\").astype(float)"
   ]
  },
  {
   "cell_type": "code",
   "execution_count": 194,
   "id": "d0f0d211-e8b8-41ef-9fe5-a6170191d604",
   "metadata": {},
   "outputs": [],
   "source": [
    "some_gears = some_gears.dropna()"
   ]
  },
  {
   "cell_type": "code",
   "execution_count": 196,
   "id": "68b592de-6210-48da-a0fa-b07a37b77ae4",
   "metadata": {},
   "outputs": [],
   "source": [
    "df.loc[some_gears.index , \"gears\"] = some_gears.values.tolist()"
   ]
  },
  {
   "cell_type": "code",
   "execution_count": 198,
   "id": "559820c8-215b-4be8-ae82-7d2e4e0eabe4",
   "metadata": {},
   "outputs": [
    {
     "data": {
      "text/plain": [
       "9561"
      ]
     },
     "execution_count": 198,
     "metadata": {},
     "output_type": "execute_result"
    }
   ],
   "source": [
    "df.gears.isnull().sum()"
   ]
  },
  {
   "cell_type": "code",
   "execution_count": 200,
   "id": "0c51ce86-fe98-4ee8-90f4-d9b1a11e15e8",
   "metadata": {},
   "outputs": [],
   "source": [
    "df.gears.fillna(df.groupby([\"gearbox\", \"body_type\"])[\"gears\"].transform(lambda x: x.mode()[0]), inplace=True)"
   ]
  },
  {
   "cell_type": "code",
   "execution_count": 202,
   "id": "a2beb80f-e5d1-48c5-a6ef-3337603ab452",
   "metadata": {},
   "outputs": [
    {
     "data": {
      "text/plain": [
       "0"
      ]
     },
     "execution_count": 202,
     "metadata": {},
     "output_type": "execute_result"
    }
   ],
   "source": [
    "df.gears.isnull().sum()"
   ]
  },
  {
   "cell_type": "code",
   "execution_count": 204,
   "id": "7432ef63-be15-4636-88c2-cee0a880316f",
   "metadata": {},
   "outputs": [],
   "source": [
    "df['manufacturer_colour'].fillna(df.groupby([\"colour\"])['manufacturer_colour'].transform(lambda x: x.mode()[0]), inplace = True)"
   ]
  },
  {
   "cell_type": "code",
   "execution_count": 206,
   "id": "d1cc6a23-93cf-4b2e-9b07-a4b219fe8dbe",
   "metadata": {},
   "outputs": [
    {
     "data": {
      "text/plain": [
       "0"
      ]
     },
     "execution_count": 206,
     "metadata": {},
     "output_type": "execute_result"
    }
   ],
   "source": [
    "df.manufacturer_colour.isnull().sum()"
   ]
  },
  {
   "cell_type": "code",
   "execution_count": 208,
   "id": "754b1a75-16b1-409d-b7e6-9d5395b3db6e",
   "metadata": {},
   "outputs": [
    {
     "data": {
      "text/plain": [
       "drivetrain\n",
       "Front    12066\n",
       "NaN      11737\n",
       "4WD       3252\n",
       "Rear      1575\n",
       "Name: count, dtype: int64"
      ]
     },
     "execution_count": 208,
     "metadata": {},
     "output_type": "execute_result"
    }
   ],
   "source": [
    "df.drivetrain.value_counts(dropna=False)"
   ]
  },
  {
   "cell_type": "code",
   "execution_count": 210,
   "id": "f979213f-ece7-4d0b-9c69-8b256b410f39",
   "metadata": {},
   "outputs": [],
   "source": [
    "front_wheel = df.loc[df[df.drivetrain.isnull()].index, 'short_description'].str.contains('front|Front')"
   ]
  },
  {
   "cell_type": "code",
   "execution_count": 212,
   "id": "79a30d74-1d00-4da5-8cb0-339967c4a988",
   "metadata": {},
   "outputs": [],
   "source": [
    "front_wheel_index = front_wheel[front_wheel == True].index"
   ]
  },
  {
   "cell_type": "code",
   "execution_count": 214,
   "id": "678aa99f-186d-4842-b43b-3bf38e8badd8",
   "metadata": {},
   "outputs": [],
   "source": [
    "df.loc[front_wheel_index, \"drivetrain\"] = \"Front\""
   ]
  },
  {
   "cell_type": "code",
   "execution_count": 216,
   "id": "83386dd3-ece3-41ae-8140-c2dfc0b18542",
   "metadata": {},
   "outputs": [
    {
     "data": {
      "text/plain": [
       "11722"
      ]
     },
     "execution_count": 216,
     "metadata": {},
     "output_type": "execute_result"
    }
   ],
   "source": [
    "df.drivetrain.isnull().sum()"
   ]
  },
  {
   "cell_type": "code",
   "execution_count": 218,
   "id": "95764920-4c03-4aa3-a5ba-da8378fce158",
   "metadata": {},
   "outputs": [],
   "source": [
    "four = df.loc[df[df.drivetrain.isnull()].index, 'short_description'].str.contains('4x4|4 x 4')"
   ]
  },
  {
   "cell_type": "code",
   "execution_count": 220,
   "id": "9e93e1d6-661d-426b-8a7a-fb1ca2bdfb15",
   "metadata": {},
   "outputs": [],
   "source": [
    "four_index = four[four == True].index"
   ]
  },
  {
   "cell_type": "code",
   "execution_count": 222,
   "id": "1cf4b32b-8d7e-4599-9b01-de21a4790a97",
   "metadata": {},
   "outputs": [],
   "source": [
    "df.loc[four_index, \"drivetrain\"] = \"4WD\""
   ]
  },
  {
   "cell_type": "code",
   "execution_count": 224,
   "id": "ae21733f-462c-4b47-83f1-78c9e8798223",
   "metadata": {},
   "outputs": [],
   "source": [
    "df.loc[8, 'drivetrain'] = '4WD'"
   ]
  },
  {
   "cell_type": "code",
   "execution_count": 226,
   "id": "e26f4806-0211-4c2b-9357-a1aff9924c69",
   "metadata": {},
   "outputs": [],
   "source": [
    "fourfour = df.loc[df[df.drivetrain.isnull()].index, 'short_description'].str.contains('4[ -]*Matic')"
   ]
  },
  {
   "cell_type": "code",
   "execution_count": 228,
   "id": "24eaf279-444d-4a06-9dc6-88758a356bea",
   "metadata": {},
   "outputs": [],
   "source": [
    "fourfour_index = fourfour[fourfour == True].index"
   ]
  },
  {
   "cell_type": "code",
   "execution_count": 230,
   "id": "9bf31bf1-0c80-433b-ab38-1ec4dc746556",
   "metadata": {},
   "outputs": [],
   "source": [
    "df.loc[fourfour_index, \"drivetrain\"] = \"4WD\""
   ]
  },
  {
   "cell_type": "code",
   "execution_count": 232,
   "id": "541b3ddc-7422-488d-bf43-be1c1c803521",
   "metadata": {},
   "outputs": [
    {
     "data": {
      "text/plain": [
       "11630"
      ]
     },
     "execution_count": 232,
     "metadata": {},
     "output_type": "execute_result"
    }
   ],
   "source": [
    "df.drivetrain.isnull().sum()"
   ]
  },
  {
   "cell_type": "code",
   "execution_count": 234,
   "id": "24828b9d-49b0-44bb-8d6b-070294f9c5de",
   "metadata": {},
   "outputs": [],
   "source": [
    "df.drivetrain.fillna(df.groupby([\"body_type\", \"gearbox\"])[\"drivetrain\"].\\\n",
    "                         transform(lambda x: x.fillna(x.mode()[0])), inplace=True)"
   ]
  },
  {
   "cell_type": "code",
   "execution_count": 236,
   "id": "0c41471d-d9b0-44a9-b2d0-b03295d17418",
   "metadata": {},
   "outputs": [
    {
     "data": {
      "text/plain": [
       "0"
      ]
     },
     "execution_count": 236,
     "metadata": {},
     "output_type": "execute_result"
    }
   ],
   "source": [
    "df.drivetrain.isnull().sum()"
   ]
  },
  {
   "cell_type": "code",
   "execution_count": 238,
   "id": "e1ebd18f-f5a1-4cfc-80ba-1d2e91214b36",
   "metadata": {},
   "outputs": [
    {
     "data": {
      "text/plain": [
       "9778"
      ]
     },
     "execution_count": 238,
     "metadata": {},
     "output_type": "execute_result"
    }
   ],
   "source": [
    "df.cylinders.isnull().sum()"
   ]
  },
  {
   "cell_type": "code",
   "execution_count": 240,
   "id": "ca70a99a-727d-42bd-99d9-b46c7f111132",
   "metadata": {},
   "outputs": [],
   "source": [
    "df.cylinders = df.cylinders.fillna(df.groupby(['make', 'engine_size', 'fuel_type','horse_power'])['cylinders']\\\n",
    "                                   .transform(lambda x: round(x.mean(), 0)))"
   ]
  },
  {
   "cell_type": "code",
   "execution_count": 242,
   "id": "fa0d694a-d5a0-4fc3-9085-e1e4d8152d90",
   "metadata": {},
   "outputs": [
    {
     "data": {
      "text/plain": [
       "2589"
      ]
     },
     "execution_count": 242,
     "metadata": {},
     "output_type": "execute_result"
    }
   ],
   "source": [
    "df.cylinders.isnull().sum()"
   ]
  },
  {
   "cell_type": "code",
   "execution_count": 244,
   "id": "a462d293-cbdc-401d-9b95-40c73401185f",
   "metadata": {},
   "outputs": [],
   "source": [
    "df.cylinders = df.cylinders.fillna(df.groupby(['gears', 'engine_size','horse_power'])['cylinders']\\\n",
    "                                   .transform(lambda x: round(x.mean(), 0)))"
   ]
  },
  {
   "cell_type": "code",
   "execution_count": 246,
   "id": "e6c05b67-1566-4d6a-a8d9-cf60576395df",
   "metadata": {},
   "outputs": [
    {
     "data": {
      "text/plain": [
       "1656"
      ]
     },
     "execution_count": 246,
     "metadata": {},
     "output_type": "execute_result"
    }
   ],
   "source": [
    "df.cylinders.isnull().sum()"
   ]
  },
  {
   "cell_type": "code",
   "execution_count": 248,
   "id": "001e0525-1bd4-42df-845a-52d37f8ca8dd",
   "metadata": {},
   "outputs": [],
   "source": [
    "df.cylinders = df.cylinders.fillna(df.groupby(['body_type' , 'horse_power'])['cylinders']\\\n",
    "                                   .transform(lambda x: round(x.mean(), 0)))"
   ]
  },
  {
   "cell_type": "code",
   "execution_count": 250,
   "id": "af4280df-deca-4b65-a510-7cb020c70d34",
   "metadata": {},
   "outputs": [
    {
     "data": {
      "text/plain": [
       "762"
      ]
     },
     "execution_count": 250,
     "metadata": {},
     "output_type": "execute_result"
    }
   ],
   "source": [
    "df.cylinders.isnull().sum()"
   ]
  },
  {
   "cell_type": "code",
   "execution_count": 252,
   "id": "b811dd40-5b62-4db0-a16b-c585300ffa76",
   "metadata": {},
   "outputs": [],
   "source": [
    "df.cylinders = df.cylinders.fillna(df.groupby(['make' , 'engine_size'])['cylinders']\\\n",
    "                                   .transform(lambda x: round(x.mean(), 0)))"
   ]
  },
  {
   "cell_type": "code",
   "execution_count": 254,
   "id": "e216503a-84d0-47c9-8abb-a1633e9e4104",
   "metadata": {},
   "outputs": [
    {
     "data": {
      "text/plain": [
       "16"
      ]
     },
     "execution_count": 254,
     "metadata": {},
     "output_type": "execute_result"
    }
   ],
   "source": [
    "df.cylinders.isnull().sum()"
   ]
  },
  {
   "cell_type": "code",
   "execution_count": 256,
   "id": "4bc6c528-c9c0-431f-b8d7-1282ab3df255",
   "metadata": {},
   "outputs": [],
   "source": [
    "df.cylinders = df.cylinders.fillna(df.groupby([\"drivetrain\", \"gears\", \"gearbox\"])['cylinders']\\\n",
    "                                   .transform(lambda x: round(x.mean(), 0)))"
   ]
  },
  {
   "cell_type": "code",
   "execution_count": 258,
   "id": "5525a17f-1904-42f2-abe1-bc0552badd82",
   "metadata": {},
   "outputs": [
    {
     "data": {
      "text/plain": [
       "0"
      ]
     },
     "execution_count": 258,
     "metadata": {},
     "output_type": "execute_result"
    }
   ],
   "source": [
    "df.cylinders.isnull().sum()"
   ]
  },
  {
   "cell_type": "code",
   "execution_count": 260,
   "id": "f73b4b42-e547-4051-a913-ada0fefd51ec",
   "metadata": {},
   "outputs": [
    {
     "data": {
      "text/plain": [
       "10872"
      ]
     },
     "execution_count": 260,
     "metadata": {},
     "output_type": "execute_result"
    }
   ],
   "source": [
    "df.empty_weight.isnull().sum()"
   ]
  },
  {
   "cell_type": "code",
   "execution_count": 262,
   "id": "3dc4bc81-e569-4185-874a-3f3e3f816dd6",
   "metadata": {},
   "outputs": [],
   "source": [
    "df.empty_weight = df.empty_weight.fillna(df.groupby(['make', 'model', 'body_type'])['empty_weight'].transform('mean'))"
   ]
  },
  {
   "cell_type": "code",
   "execution_count": 264,
   "id": "490a0b8d-63d3-4ab2-8166-549d9de0169b",
   "metadata": {},
   "outputs": [],
   "source": [
    "df['empty_weight'] = df['empty_weight'].fillna(df.groupby([\"engine_size\"])['empty_weight'].transform('mean'))"
   ]
  },
  {
   "cell_type": "code",
   "execution_count": 266,
   "id": "f59c2143-ff3e-452c-8592-8fc16693b9fc",
   "metadata": {},
   "outputs": [
    {
     "data": {
      "text/plain": [
       "4"
      ]
     },
     "execution_count": 266,
     "metadata": {},
     "output_type": "execute_result"
    }
   ],
   "source": [
    "df.empty_weight.isnull().sum()"
   ]
  },
  {
   "cell_type": "code",
   "execution_count": 268,
   "id": "20abc8e1-0931-41aa-9889-64268ccd31c3",
   "metadata": {},
   "outputs": [],
   "source": [
    "df['empty_weight'] = df['empty_weight'].fillna(df.groupby(['doors'])['empty_weight'].transform('mean'))"
   ]
  },
  {
   "cell_type": "code",
   "execution_count": 270,
   "id": "32319c28-ff04-4e5e-8135-0c5a48ab3549",
   "metadata": {},
   "outputs": [
    {
     "data": {
      "text/plain": [
       "0"
      ]
     },
     "execution_count": 270,
     "metadata": {},
     "output_type": "execute_result"
    }
   ],
   "source": [
    "df.empty_weight.isnull().sum()"
   ]
  },
  {
   "cell_type": "code",
   "execution_count": 272,
   "id": "1be71860-317d-4475-95e9-d7e5578052dc",
   "metadata": {},
   "outputs": [
    {
     "data": {
      "text/plain": [
       "full_service_history\n",
       "NaN    16065\n",
       "Yes    12565\n",
       "Name: count, dtype: int64"
      ]
     },
     "execution_count": 272,
     "metadata": {},
     "output_type": "execute_result"
    }
   ],
   "source": [
    "df.full_service_history.value_counts(dropna=False)"
   ]
  },
  {
   "cell_type": "code",
   "execution_count": 274,
   "id": "915aa26d-27c7-405b-b488-3bebc5a026cd",
   "metadata": {},
   "outputs": [],
   "source": [
    "df.full_service_history.fillna(\"No\", inplace = True)"
   ]
  },
  {
   "cell_type": "code",
   "execution_count": 276,
   "id": "dbc533e8-395b-4970-a9c1-fbb3fdeb252a",
   "metadata": {},
   "outputs": [
    {
     "data": {
      "text/plain": [
       "0"
      ]
     },
     "execution_count": 276,
     "metadata": {},
     "output_type": "execute_result"
    }
   ],
   "source": [
    "df.full_service_history.isnull().sum()"
   ]
  },
  {
   "cell_type": "code",
   "execution_count": 278,
   "id": "d64ca371-2185-4eed-ac1a-33907c11d872",
   "metadata": {},
   "outputs": [
    {
     "data": {
      "text/plain": [
       "full_service_history\n",
       "No     16065\n",
       "Yes    12565\n",
       "Name: count, dtype: int64"
      ]
     },
     "execution_count": 278,
     "metadata": {},
     "output_type": "execute_result"
    }
   ],
   "source": [
    "df.full_service_history.value_counts(dropna=False)"
   ]
  },
  {
   "cell_type": "code",
   "execution_count": 280,
   "id": "159b4e6d-a223-4505-ba74-7fa724b0ed2c",
   "metadata": {},
   "outputs": [
    {
     "data": {
      "text/plain": [
       "emission_class\n",
       "NaN             10771\n",
       "Euro 6           6418\n",
       "Euro 6d-TEMP     3399\n",
       "Euro 6d          2858\n",
       "Euro 5           2389\n",
       "Euro 4           1743\n",
       "Euro 3            523\n",
       "Euro 2            217\n",
       "Euro 1            172\n",
       "Euro 6c           140\n",
       "Name: count, dtype: int64"
      ]
     },
     "execution_count": 280,
     "metadata": {},
     "output_type": "execute_result"
    }
   ],
   "source": [
    "df.emission_class.value_counts(dropna=False)"
   ]
  },
  {
   "cell_type": "code",
   "execution_count": 282,
   "id": "3d3af4d9-11f7-4638-afac-ee6a57f2f035",
   "metadata": {},
   "outputs": [
    {
     "data": {
      "text/plain": [
       "0        2016.0\n",
       "1        2022.0\n",
       "2        2020.0\n",
       "3        2020.0\n",
       "4        2015.0\n",
       "          ...  \n",
       "29474    2019.0\n",
       "29475    2004.0\n",
       "29476    2011.0\n",
       "29477    2017.0\n",
       "29478    2002.0\n",
       "Name: first_registration, Length: 28630, dtype: float64"
      ]
     },
     "execution_count": 282,
     "metadata": {},
     "output_type": "execute_result"
    }
   ],
   "source": [
    "df.first_registration"
   ]
  },
  {
   "cell_type": "code",
   "execution_count": 284,
   "id": "1b9ceb03-d34e-4d61-b582-908ad88fcf79",
   "metadata": {},
   "outputs": [],
   "source": [
    "df.emission_class = df.emission_class.fillna(df.loc[(df.emission_class.isnull() & (pd.to_datetime(df.first_registration).dt.date < pd.to_datetime('1992').date())), 'emission_class'].replace(np.NaN, 'Under Class'))\n",
    "\n",
    "df.emission_class = df.emission_class.fillna(df.loc[(df.emission_class.isnull() & (pd.to_datetime(df.first_registration).dt.date < pd.to_datetime('1996').date())), 'emission_class'].replace(np.NaN, 'Euro 1'))\n",
    "\n",
    "df.emission_class = df.emission_class.fillna(df.loc[(df.emission_class.isnull() & (pd.to_datetime(df.first_registration).dt.date < pd.to_datetime('2000').date())), 'emission_class'].replace(np.NaN, 'Euro 2'))\n",
    "\n",
    "df.emission_class = df.emission_class.fillna(df.loc[(df.emission_class.isnull() & (pd.to_datetime(df.first_registration).dt.date < pd.to_datetime('2005').date())), 'emission_class'].replace(np.NaN, 'Euro 3'))\n",
    "\n",
    "df.emission_class = df.emission_class.fillna(df.loc[(df.emission_class.isnull() & (pd.to_datetime(df.first_registration).dt.date < pd.to_datetime('2009').date())), 'emission_class'].replace(np.NaN, 'Euro 4'))\n",
    "\n",
    "df.emission_class = df.emission_class.fillna(df.loc[(df.emission_class.isnull() & (pd.to_datetime(df.first_registration).dt.date < pd.to_datetime('2014').date())), 'emission_class'].replace(np.NaN, 'Euro 5'))\n",
    "\n",
    "df.emission_class = df.emission_class.fillna(df.loc[(df.emission_class.isnull() & (pd.to_datetime(df.first_registration).dt.date >= pd.to_datetime('2014').date())), 'emission_class'].replace(np.NaN, 'Euro 6'))\n",
    "\n",
    "df.emission_class = df.emission_class.fillna(df.loc[(df.emission_class.isnull() & (pd.to_datetime(df.first_registration).dt.date > pd.to_datetime('2014').date())), 'emission_class'].replace(np.NaN, 'Euro 6'))\n",
    "\n",
    "df.emission_class = df.emission_class.str.replace('Euro 6d-TEMP','Euro 6')\n",
    "df.emission_class = df.emission_class.str.replace('Euro 6d','Euro 6')\n",
    "df.emission_class = df.emission_class.str.replace('Euro 6c','Euro 6')"
   ]
  },
  {
   "cell_type": "code",
   "execution_count": 286,
   "id": "c4e7a3f1-cfb9-4598-8a0b-16298329be77",
   "metadata": {},
   "outputs": [
    {
     "data": {
      "text/plain": [
       "0"
      ]
     },
     "execution_count": 286,
     "metadata": {},
     "output_type": "execute_result"
    }
   ],
   "source": [
    "df.emission_class.isnull().sum()"
   ]
  },
  {
   "cell_type": "code",
   "execution_count": 288,
   "id": "28b41187-2a73-40b2-a7ec-9cf1bfadc679",
   "metadata": {},
   "outputs": [
    {
     "data": {
      "text/plain": [
       "emission_class\n",
       "Euro 6         12815\n",
       "Under Class    10771\n",
       "Euro 5          2389\n",
       "Euro 4          1743\n",
       "Euro 3           523\n",
       "Euro 2           217\n",
       "Euro 1           172\n",
       "Name: count, dtype: int64"
      ]
     },
     "execution_count": 288,
     "metadata": {},
     "output_type": "execute_result"
    }
   ],
   "source": [
    "df.emission_class.value_counts()"
   ]
  },
  {
   "cell_type": "code",
   "execution_count": 290,
   "id": "91286737-e207-4240-85dd-6ab7d8d22812",
   "metadata": {},
   "outputs": [
    {
     "data": {
      "text/plain": [
       "emission_class\n",
       "Euro 1         16079.802326\n",
       "Euro 2         13279.852535\n",
       "Euro 3          7865.739962\n",
       "Euro 4          8993.008032\n",
       "Euro 5         13361.375052\n",
       "Euro 6         29832.011783\n",
       "Under Class    21792.946987\n",
       "Name: price, dtype: float64"
      ]
     },
     "execution_count": 290,
     "metadata": {},
     "output_type": "execute_result"
    }
   ],
   "source": [
    "df.groupby('emission_class')['price'].mean()"
   ]
  },
  {
   "cell_type": "code",
   "execution_count": 292,
   "id": "7cdeb2d3-30c7-4e35-a068-0b24ef5bd8d9",
   "metadata": {},
   "outputs": [
    {
     "data": {
      "text/plain": [
       "10020"
      ]
     },
     "execution_count": 292,
     "metadata": {},
     "output_type": "execute_result"
    }
   ],
   "source": [
    "df.upholstery.isnull().sum()"
   ]
  },
  {
   "cell_type": "code",
   "execution_count": 294,
   "id": "b6a6afb5-0414-457a-8023-61762f036b9a",
   "metadata": {},
   "outputs": [],
   "source": [
    "df.upholstery = df.groupby(['make','body_type'], group_keys = False)['upholstery']\\\n",
    ".transform(lambda x: x.fillna(x.mode()[0] if len(x.mode()) > 0 else np.nan))"
   ]
  },
  {
   "cell_type": "code",
   "execution_count": 296,
   "id": "b338d66e-cadb-46a9-818f-70a61565e5f4",
   "metadata": {},
   "outputs": [
    {
     "data": {
      "text/plain": [
       "upholstery\n",
       "Cloth           15125\n",
       "Full Leather     7948\n",
       "Part Leather     3955\n",
       "Alcantara         764\n",
       "Other             628\n",
       "Velour            208\n",
       "NaN                 2\n",
       "Name: count, dtype: int64"
      ]
     },
     "execution_count": 296,
     "metadata": {},
     "output_type": "execute_result"
    }
   ],
   "source": [
    "df.upholstery.value_counts(dropna=False)"
   ]
  },
  {
   "cell_type": "code",
   "execution_count": 298,
   "id": "58d374b7-bc0d-4122-97d8-26bbf431a0bc",
   "metadata": {},
   "outputs": [],
   "source": [
    "df.upholstery = df.groupby(['make','drivetrain'], group_keys = False)['upholstery']\\\n",
    ".transform(lambda x: x.fillna(x.mode()[0] if len(x.mode()) > 0 else np.nan))"
   ]
  },
  {
   "cell_type": "code",
   "execution_count": 300,
   "id": "70458529-732f-4ddd-851d-eb5797122a8f",
   "metadata": {},
   "outputs": [
    {
     "data": {
      "text/plain": [
       "0"
      ]
     },
     "execution_count": 300,
     "metadata": {},
     "output_type": "execute_result"
    }
   ],
   "source": [
    "df.upholstery.isnull().sum()"
   ]
  },
  {
   "cell_type": "code",
   "execution_count": 302,
   "id": "24c8218c-5774-4bb1-a371-67241b609024",
   "metadata": {},
   "outputs": [],
   "source": [
    "df.upholstery_colour = df.groupby(['make','colour', 'upholstery'], group_keys = False)['upholstery_colour']\\\n",
    ".transform(lambda x: x.fillna(x.mode()[0] if len(x.mode()) > 0 else np.nan))"
   ]
  },
  {
   "cell_type": "code",
   "execution_count": 304,
   "id": "8f0557c9-43e0-48b4-a944-08abb5c90bf0",
   "metadata": {},
   "outputs": [],
   "source": [
    "df.upholstery_colour = df.groupby(['body_type','paint', 'location_country'], group_keys = False)['upholstery_colour']\\\n",
    ".transform(lambda x: x.fillna(x.mode()[0] if len(x.mode()) > 0 else np.nan))"
   ]
  },
  {
   "cell_type": "code",
   "execution_count": 306,
   "id": "0362c431-6c09-4a1b-a0cf-e19889011e7e",
   "metadata": {},
   "outputs": [
    {
     "data": {
      "text/plain": [
       "0"
      ]
     },
     "execution_count": 306,
     "metadata": {},
     "output_type": "execute_result"
    }
   ],
   "source": [
    "df.upholstery_colour.isnull().sum()"
   ]
  },
  {
   "cell_type": "code",
   "execution_count": 308,
   "id": "aaee43b8-c381-45a4-b118-6df064643daf",
   "metadata": {},
   "outputs": [
    {
     "data": {
      "text/plain": [
       "576"
      ]
     },
     "execution_count": 308,
     "metadata": {},
     "output_type": "execute_result"
    }
   ],
   "source": [
    "df.horse_power.isnull().sum()"
   ]
  },
  {
   "cell_type": "code",
   "execution_count": 310,
   "id": "d0c4ef9c-7896-4a6a-b14f-a05e8a019d90",
   "metadata": {},
   "outputs": [],
   "source": [
    "horses = df.loc[df[df.horse_power.isnull()].index, 'short_description'].str.extract(' (\\d+)ch')"
   ]
  },
  {
   "cell_type": "code",
   "execution_count": 312,
   "id": "d83259ba-b328-42b6-9eb6-705cf90cc636",
   "metadata": {},
   "outputs": [],
   "source": [
    "horses_index = horses.dropna().index"
   ]
  },
  {
   "cell_type": "code",
   "execution_count": 314,
   "id": "8ee9fac0-3a32-4549-97ea-28f075e8e5f9",
   "metadata": {},
   "outputs": [],
   "source": [
    "df.loc[horses_index, \"horse_power\"] = horses.dropna().values.tolist()"
   ]
  },
  {
   "cell_type": "code",
   "execution_count": 316,
   "id": "377008dd-c1b6-4ec8-8b1e-ed8aa411d3af",
   "metadata": {},
   "outputs": [
    {
     "data": {
      "text/plain": [
       "314"
      ]
     },
     "execution_count": 316,
     "metadata": {},
     "output_type": "execute_result"
    }
   ],
   "source": [
    "df.horse_power.isnull().sum()"
   ]
  },
  {
   "cell_type": "code",
   "execution_count": 318,
   "id": "35b898fd-38cb-4b39-803f-d14e811f452c",
   "metadata": {},
   "outputs": [],
   "source": [
    "df.horse_power = df.horse_power.astype('float')"
   ]
  },
  {
   "cell_type": "code",
   "execution_count": 320,
   "id": "687bee0f-10f3-4017-a82a-ce5e2f879990",
   "metadata": {},
   "outputs": [],
   "source": [
    "df['horse_power'].fillna(df.groupby(['make', 'model', 'body_type', \"type\"])['horse_power'].transform('median'), inplace = True)"
   ]
  },
  {
   "cell_type": "code",
   "execution_count": 322,
   "id": "536b0c3c-ee11-42b8-915b-146f051d48f4",
   "metadata": {},
   "outputs": [
    {
     "data": {
      "text/plain": [
       "22"
      ]
     },
     "execution_count": 322,
     "metadata": {},
     "output_type": "execute_result"
    }
   ],
   "source": [
    "df.horse_power.isnull().sum()"
   ]
  },
  {
   "cell_type": "code",
   "execution_count": 324,
   "id": "1e01d46d-292b-4aee-b170-1c06eb6167b4",
   "metadata": {},
   "outputs": [],
   "source": [
    "df['horse_power'].fillna(df.groupby(['make', 'body_type', 'engine_size'])['horse_power'].transform('median'), inplace = True)"
   ]
  },
  {
   "cell_type": "code",
   "execution_count": 326,
   "id": "3593786a-f615-4c0f-a69b-0af3f913b0d9",
   "metadata": {},
   "outputs": [],
   "source": [
    "df.horse_power = df.groupby(['drivetrain', 'cylinders', 'engine_size'])['horse_power'].transform('median')"
   ]
  },
  {
   "cell_type": "code",
   "execution_count": 328,
   "id": "d824c031-3d02-4540-b40a-2460c9122569",
   "metadata": {},
   "outputs": [],
   "source": [
    "df.horse_power = df.groupby(['drivetrain', 'cylinders', 'gears'])['horse_power'].transform('median')"
   ]
  },
  {
   "cell_type": "code",
   "execution_count": 330,
   "id": "d72c9170-5137-4c79-973b-a67ff4dce16a",
   "metadata": {},
   "outputs": [
    {
     "data": {
      "text/plain": [
       "0"
      ]
     },
     "execution_count": 330,
     "metadata": {},
     "output_type": "execute_result"
    }
   ],
   "source": [
    "df.horse_power.isnull().sum()"
   ]
  },
  {
   "cell_type": "code",
   "execution_count": 332,
   "id": "fb299703-a192-4097-ac99-28dcf3a558e5",
   "metadata": {},
   "outputs": [
    {
     "data": {
      "text/plain": [
       "5421"
      ]
     },
     "execution_count": 332,
     "metadata": {},
     "output_type": "execute_result"
    }
   ],
   "source": [
    "df.f_consumption_per_100_combined.isnull().sum()"
   ]
  },
  {
   "cell_type": "code",
   "execution_count": 334,
   "id": "4eb68134-a5c1-4beb-a46f-2606fbba082c",
   "metadata": {},
   "outputs": [
    {
     "data": {
      "text/plain": [
       "fuel_type\n",
       "Benzine     17910\n",
       "Diesel       9048\n",
       "Hybrid        738\n",
       "Others        354\n",
       "Electric      336\n",
       "Lpg           244\n",
       "Name: count, dtype: int64"
      ]
     },
     "execution_count": 334,
     "metadata": {},
     "output_type": "execute_result"
    }
   ],
   "source": [
    "df.fuel_type.value_counts()"
   ]
  },
  {
   "cell_type": "code",
   "execution_count": 336,
   "id": "cb730fcd-0c5d-41c7-8b8f-355ca3841e1b",
   "metadata": {},
   "outputs": [],
   "source": [
    "df_fuel = df[df[\"fuel_type\"].isin([\"Benzine\", \"Diesel\", \"Other\", \"Lpg\"])]"
   ]
  },
  {
   "cell_type": "code",
   "execution_count": 338,
   "id": "7ddc9595-c300-4676-a43a-2da983ef635a",
   "metadata": {},
   "outputs": [],
   "source": [
    "df.f_consumption_per_100_combined.fillna(df_fuel.groupby([\"model\", \"fuel_type\", \"body_type\"])[\"f_consumption_per_100_combined\"]\\\n",
    "                           .transform(lambda x: x.mean()), inplace=True)"
   ]
  },
  {
   "cell_type": "code",
   "execution_count": 340,
   "id": "fc6c3aee-1fc3-4f5f-8b34-7582dc0c1e6c",
   "metadata": {},
   "outputs": [],
   "source": [
    "df.f_consumption_per_100_combined.fillna(df_fuel.groupby([\"make\", \"fuel_type\", \"engine_size\"])[\"f_consumption_per_100_combined\"]\\\n",
    "                                         .transform(lambda x: x.mean()), inplace=True)"
   ]
  },
  {
   "cell_type": "code",
   "execution_count": 342,
   "id": "e2b5408b-0a89-4ed7-bee5-e34a54736b81",
   "metadata": {},
   "outputs": [],
   "source": [
    "df.f_consumption_per_100_combined.fillna(df_fuel.groupby([\"fuel_type\", \"engine_size\"])[\"f_consumption_per_100_combined\"]\\\n",
    "                                         .transform(lambda x: x.mean()), inplace=True)"
   ]
  },
  {
   "cell_type": "code",
   "execution_count": 344,
   "id": "0cd21af4-d862-465a-88ac-fe6c3b7e30de",
   "metadata": {},
   "outputs": [],
   "source": [
    "df.f_consumption_per_100_combined.fillna(df_fuel.groupby([\"make\", \"gears\"])[\"f_consumption_per_100_combined\"]\\\n",
    "                           .transform(lambda x: x.mean()), inplace=True)"
   ]
  },
  {
   "cell_type": "code",
   "execution_count": 346,
   "id": "dff417bb-86f7-48a8-86aa-e9b6492b509b",
   "metadata": {},
   "outputs": [],
   "source": [
    "df_fuel[\"engine_class\"] = df_fuel.engine_size.transform(lambda x: \"best\" if x <= 1.4 else \\\n",
    "                    \"medium\" if x <= 1.8  else \"high\" if x <= 2.6 \\\n",
    "                    else \"higher\" if x <= 3.5 else \"too much\")"
   ]
  },
  {
   "cell_type": "code",
   "execution_count": 348,
   "id": "43b9f434-8c9c-4be7-b202-4e1c2ae2fd94",
   "metadata": {},
   "outputs": [],
   "source": [
    "df.f_consumption_per_100_combined.fillna(df_fuel.groupby([\"make\", \"engine_class\"])[\"f_consumption_per_100_combined\"]\\\n",
    "                                         .transform(lambda x: x.mean()), inplace=True)"
   ]
  },
  {
   "cell_type": "code",
   "execution_count": 350,
   "id": "f6952cac-5081-43f8-932a-2e23fe0d0381",
   "metadata": {},
   "outputs": [
    {
     "data": {
      "text/plain": [
       "1263     1.9\n",
       "27829    5.6\n",
       "27831    5.6\n",
       "27890    5.5\n",
       "28215    5.6\n",
       "28217    5.6\n",
       "28272    5.5\n",
       "28399    4.7\n",
       "28799    4.7\n",
       "Name: f_consumption_per_100_combined, dtype: float64"
      ]
     },
     "execution_count": 350,
     "metadata": {},
     "output_type": "execute_result"
    }
   ],
   "source": [
    "df.loc[df[df[\"fuel_type\"] == \"Hybrid\"][\"short_description\"].str.extract(\"(diesel)\", flags=re.IGNORECASE).dropna().index, \"f_consumption_per_100_combined\"]"
   ]
  },
  {
   "cell_type": "code",
   "execution_count": 352,
   "id": "6cc31004-eb95-4247-b26a-d031b4d96e3a",
   "metadata": {},
   "outputs": [],
   "source": [
    "df.loc[df[df[\"fuel_type\"] == \"Hybrid\"][\"short_description\"].str.extract(\"(diesel)\", flags=re.IGNORECASE).dropna().index, \"fuel_type\"] = \"Hybrid/Diesel\""
   ]
  },
  {
   "cell_type": "code",
   "execution_count": 354,
   "id": "af775def-e800-4667-a301-8177dc97fbd4",
   "metadata": {},
   "outputs": [],
   "source": [
    "df.loc[df[\"fuel_type\"] == \"Hybrid/Diesel\", \"f_consumption_per_100_combined\"] = (df.loc[df[\"fuel_type\"] == \"Hybrid/Diesel\", \"f_consumption_per_100_combined\"] * 10.96).round(1)"
   ]
  },
  {
   "cell_type": "code",
   "execution_count": 356,
   "id": "b176f06b-83a8-4c18-8e85-1640003f391a",
   "metadata": {},
   "outputs": [],
   "source": [
    "df.loc[df[df[\"fuel_type\"] == \"Hybrid\"].index, \"f_consumption_per_100_combined\"] = (df.loc[df[df[\"fuel_type\"] == \"Hybrid\"].index, \"f_consumption_per_100_combined\"] * 9.61).round(1)"
   ]
  },
  {
   "cell_type": "code",
   "execution_count": 358,
   "id": "3ccf46c7-c826-48f7-9be3-e4f433c93349",
   "metadata": {},
   "outputs": [
    {
     "data": {
      "text/plain": [
       "640"
      ]
     },
     "execution_count": 358,
     "metadata": {},
     "output_type": "execute_result"
    }
   ],
   "source": [
    "df.f_consumption_per_100_combined.isnull().sum()"
   ]
  },
  {
   "cell_type": "code",
   "execution_count": 360,
   "id": "5e3c3e8b-2fd7-42e3-a4b8-186dfaa9d42d",
   "metadata": {},
   "outputs": [],
   "source": [
    "df.f_consumption_per_100_combined.fillna(df.groupby([\"model\", \"fuel_type\", \"engine_size\"])[\"f_consumption_per_100_combined\"]\\\n",
    "                           .transform(lambda x: x.mean()), inplace=True)"
   ]
  },
  {
   "cell_type": "code",
   "execution_count": 362,
   "id": "d387ddd3-c314-46d5-87f8-72146b2844eb",
   "metadata": {},
   "outputs": [],
   "source": [
    "df.f_consumption_per_100_combined.fillna(df.groupby([\"horse_power\", \"country_version\"])[\"f_consumption_per_100_combined\"]\\\n",
    "                           .transform(lambda x: x.mean()), inplace=True)"
   ]
  },
  {
   "cell_type": "code",
   "execution_count": 364,
   "id": "7b59823e-cb61-45db-8da6-4fa6c852fe09",
   "metadata": {},
   "outputs": [],
   "source": [
    "df.f_consumption_per_100_combined.fillna(df.groupby([\"fuel_type\", \"drivetrain\"])[\"f_consumption_per_100_combined\"]\\\n",
    "                           .transform(lambda x: x.mean()), inplace=True)"
   ]
  },
  {
   "cell_type": "code",
   "execution_count": 366,
   "id": "f06f2c3b-198d-45d8-a8f1-fb89aa3068f5",
   "metadata": {},
   "outputs": [
    {
     "data": {
      "text/plain": [
       "0"
      ]
     },
     "execution_count": 366,
     "metadata": {},
     "output_type": "execute_result"
    }
   ],
   "source": [
    "df.f_consumption_per_100_combined.isnull().sum()"
   ]
  },
  {
   "cell_type": "code",
   "execution_count": 368,
   "id": "0f87f10b-d877-40de-a24b-cd84c11eb918",
   "metadata": {},
   "outputs": [
    {
     "data": {
      "text/plain": [
       "3197"
      ]
     },
     "execution_count": 368,
     "metadata": {},
     "output_type": "execute_result"
    }
   ],
   "source": [
    "df.comfort_convenience_pack.isnull().sum()"
   ]
  },
  {
   "cell_type": "code",
   "execution_count": 370,
   "id": "c51db92f-d052-49cb-9fab-9411de046b17",
   "metadata": {},
   "outputs": [],
   "source": [
    "df.comfort_convenience_pack = df.groupby(['make', 'first_registration'])['comfort_convenience_pack']\\\n",
    "        .transform(lambda x: x.fillna(x.mode()[0] if len(x.mode()) > 0 else np.nan))"
   ]
  },
  {
   "cell_type": "code",
   "execution_count": 372,
   "id": "b2241334-e6d9-462b-81ad-b7ee32217bcc",
   "metadata": {},
   "outputs": [
    {
     "data": {
      "text/plain": [
       "243"
      ]
     },
     "execution_count": 372,
     "metadata": {},
     "output_type": "execute_result"
    }
   ],
   "source": [
    "df.comfort_convenience_pack.isnull().sum()"
   ]
  },
  {
   "cell_type": "code",
   "execution_count": 374,
   "id": "7dc9058b-3cce-4acf-887f-d02a16512e0d",
   "metadata": {},
   "outputs": [],
   "source": [
    "df.comfort_convenience_pack = df.groupby(['make', 'seats'])['comfort_convenience_pack']\\\n",
    "        .transform(lambda x: x.fillna(x.mode()[0] if len(x.mode()) > 0 else np.nan))"
   ]
  },
  {
   "cell_type": "code",
   "execution_count": 376,
   "id": "b28555ed-7f6f-4694-8b2d-ec3f08b1dadb",
   "metadata": {},
   "outputs": [],
   "source": [
    "df.comfort_convenience_pack = df.groupby(['make', 'horse_power'])['comfort_convenience_pack']\\\n",
    "        .transform(lambda x: x.fillna(x.mode()[0] if len(x.mode()) > 0 else np.nan))"
   ]
  },
  {
   "cell_type": "code",
   "execution_count": 378,
   "id": "1827be0b-4dfd-4e68-a0d7-3973b329e09d",
   "metadata": {},
   "outputs": [
    {
     "data": {
      "text/plain": [
       "0"
      ]
     },
     "execution_count": 378,
     "metadata": {},
     "output_type": "execute_result"
    }
   ],
   "source": [
    "df.comfort_convenience_pack.isnull().sum()"
   ]
  },
  {
   "cell_type": "code",
   "execution_count": 380,
   "id": "1a416aaa-1008-4e36-9400-eeb6a7eb35d2",
   "metadata": {},
   "outputs": [
    {
     "data": {
      "text/plain": [
       "4986"
      ]
     },
     "execution_count": 380,
     "metadata": {},
     "output_type": "execute_result"
    }
   ],
   "source": [
    "df.entertainment_pack.isnull().sum()"
   ]
  },
  {
   "cell_type": "code",
   "execution_count": 382,
   "id": "008d92fa-fc07-499e-85d4-4600ec8f7f9f",
   "metadata": {},
   "outputs": [],
   "source": [
    "df.entertainment_pack = df.groupby(['make', 'first_registration'])['entertainment_pack']\\\n",
    "        .transform(lambda x: x.fillna(x.mode()[0] if len(x.mode()) > 0 else np.nan))"
   ]
  },
  {
   "cell_type": "code",
   "execution_count": 384,
   "id": "c98ad843-6c70-4bb7-a65f-006da4bfd02d",
   "metadata": {},
   "outputs": [],
   "source": [
    "df.entertainment_pack = df.groupby(['make', 'seats'])['entertainment_pack']\\\n",
    "        .transform(lambda x: x.fillna(x.mode()[0] if len(x.mode()) > 0 else np.nan))"
   ]
  },
  {
   "cell_type": "code",
   "execution_count": 386,
   "id": "d1a655fa-ea81-4a4b-84c1-884913e977b0",
   "metadata": {},
   "outputs": [],
   "source": [
    "df.entertainment_pack = df.groupby(['make', 'horse_power'])['entertainment_pack']\\\n",
    "        .transform(lambda x: x.fillna(x.mode()[0] if len(x.mode()) > 0 else np.nan))"
   ]
  },
  {
   "cell_type": "code",
   "execution_count": 388,
   "id": "909e5e58-d167-4538-8d84-3b408840bcc4",
   "metadata": {},
   "outputs": [],
   "source": [
    "df.entertainment_pack = df.groupby(['make_model'])['entertainment_pack']\\\n",
    "        .transform(lambda x: x.fillna(x.mode()[0] if len(x.mode()) > 0 else np.nan))"
   ]
  },
  {
   "cell_type": "code",
   "execution_count": 390,
   "id": "9f4c5cf5-a73d-47e8-bb55-59d003b099a8",
   "metadata": {},
   "outputs": [
    {
     "data": {
      "text/plain": [
       "0"
      ]
     },
     "execution_count": 390,
     "metadata": {},
     "output_type": "execute_result"
    }
   ],
   "source": [
    "df.entertainment_pack.isnull().sum()"
   ]
  },
  {
   "cell_type": "code",
   "execution_count": 392,
   "id": "69a7b897-6889-4496-8167-d62cf87b4dcf",
   "metadata": {},
   "outputs": [
    {
     "data": {
      "text/plain": [
       "3215"
      ]
     },
     "execution_count": 392,
     "metadata": {},
     "output_type": "execute_result"
    }
   ],
   "source": [
    "df.safety_security_pack.isnull().sum()"
   ]
  },
  {
   "cell_type": "code",
   "execution_count": 394,
   "id": "8bc01276-72ca-4a86-8f59-faa8abc770b9",
   "metadata": {},
   "outputs": [],
   "source": [
    "df.safety_security_pack = df.groupby(['make', 'first_registration'])['safety_security_pack']\\\n",
    "        .transform(lambda x: x.fillna(x.mode()[0] if len(x.mode()) > 0 else np.nan))"
   ]
  },
  {
   "cell_type": "code",
   "execution_count": 396,
   "id": "9c7f3212-1704-486d-976f-428dee77f06f",
   "metadata": {},
   "outputs": [],
   "source": [
    "df.safety_security_pack = df.groupby(['make', 'seats'])['safety_security_pack']\\\n",
    "        .transform(lambda x: x.fillna(x.mode()[0] if len(x.mode()) > 0 else np.nan))"
   ]
  },
  {
   "cell_type": "code",
   "execution_count": 398,
   "id": "b11bf91b-510f-4a2e-a45f-939fb2c0c4bd",
   "metadata": {},
   "outputs": [],
   "source": [
    "df.safety_security_pack = df.groupby(['make', 'horse_power'])['safety_security_pack']\\\n",
    "        .transform(lambda x: x.fillna(x.mode()[0] if len(x.mode()) > 0 else np.nan))"
   ]
  },
  {
   "cell_type": "code",
   "execution_count": 400,
   "id": "0b54b9cd-26b0-4adf-bafe-ee2d46d48fff",
   "metadata": {},
   "outputs": [
    {
     "data": {
      "text/plain": [
       "0"
      ]
     },
     "execution_count": 400,
     "metadata": {},
     "output_type": "execute_result"
    }
   ],
   "source": [
    "df.safety_security_pack.isnull().sum()"
   ]
  },
  {
   "cell_type": "code",
   "execution_count": 402,
   "id": "eac21c69-8647-4036-a203-865f75bebf90",
   "metadata": {},
   "outputs": [
    {
     "data": {
      "text/plain": [
       "5150"
      ]
     },
     "execution_count": 402,
     "metadata": {},
     "output_type": "execute_result"
    }
   ],
   "source": [
    "df.extra_pack.isnull().sum()"
   ]
  },
  {
   "cell_type": "code",
   "execution_count": 404,
   "id": "d1245603-b3f4-4d3d-a907-e85711c6c423",
   "metadata": {},
   "outputs": [],
   "source": [
    "df.extra_pack = df.groupby(['make', 'first_registration'])['extra_pack']\\\n",
    "        .transform(lambda x: x.fillna(x.mode()[0] if len(x.mode()) > 0 else np.nan))"
   ]
  },
  {
   "cell_type": "code",
   "execution_count": 406,
   "id": "4f4e1d21-2ffa-4761-8822-b68bc6da8f06",
   "metadata": {},
   "outputs": [],
   "source": [
    "df.extra_pack = df.groupby(['make', 'seats'])['extra_pack']\\\n",
    "        .transform(lambda x: x.fillna(x.mode()[0] if len(x.mode()) > 0 else np.nan))"
   ]
  },
  {
   "cell_type": "code",
   "execution_count": 408,
   "id": "d8bd609d-e395-4839-a9ad-74935f8d11fc",
   "metadata": {},
   "outputs": [],
   "source": [
    "df.extra_pack = df.groupby(['make', 'horse_power'])['extra_pack']\\\n",
    "        .transform(lambda x: x.fillna(x.mode()[0] if len(x.mode()) > 0 else np.nan))"
   ]
  },
  {
   "cell_type": "code",
   "execution_count": 410,
   "id": "630cd92c-d389-4723-878a-c8d2d3b66a34",
   "metadata": {},
   "outputs": [
    {
     "data": {
      "text/plain": [
       "0"
      ]
     },
     "execution_count": 410,
     "metadata": {},
     "output_type": "execute_result"
    }
   ],
   "source": [
    "df.extra_pack.isnull().sum()"
   ]
  },
  {
   "cell_type": "code",
   "execution_count": 412,
   "id": "91ecc462-44af-4695-84b6-cf33c3ca4d77",
   "metadata": {},
   "outputs": [
    {
     "data": {
      "text/plain": [
       "14615"
      ]
     },
     "execution_count": 412,
     "metadata": {},
     "output_type": "execute_result"
    }
   ],
   "source": [
    "df.previous_owner.isnull().sum()"
   ]
  },
  {
   "cell_type": "code",
   "execution_count": 414,
   "id": "a2e7194b-c9c4-4589-abe7-9592026efc63",
   "metadata": {},
   "outputs": [],
   "source": [
    "df_prw = df[[\"make\", \"first_registration\", \"mileage\", \"previous_owner\"]]"
   ]
  },
  {
   "cell_type": "code",
   "execution_count": 416,
   "id": "47f55b2c-3bae-4548-9098-c5b2562f4b38",
   "metadata": {},
   "outputs": [],
   "source": [
    "df_prw.loc[df_prw[\"mileage\"] <= 50000, \"mile_class\"] = \"0-50k\"\n",
    "df_prw.loc[(50000 < df_prw[\"mileage\"]) & (df_prw[\"mileage\"] <= 100000), \"mile_class\"] = \"50k-100k\"\n",
    "df_prw.loc[(100000 < df_prw[\"mileage\"])& ( df_prw[\"mileage\"] <= 200000), \"mile_class\"] = \"100k-200k\"\n",
    "df_prw.loc[(200000 < df_prw[\"mileage\"]) & (df_prw[\"mileage\"] <= 300000), \"mile_class\"] = \"200k-300k\"\n",
    "df_prw.loc[(300000 < df_prw[\"mileage\"]) & (df_prw[\"mileage\"] <= 500000), \"mile_class\"] = \"300k-500k\"\n",
    "df_prw.loc[500000 < df_prw[\"mileage\"], \"mile_class\"] = \"above 500k\""
   ]
  },
  {
   "cell_type": "code",
   "execution_count": 418,
   "id": "dc46cb9c-9560-474b-ac72-a9501f738aeb",
   "metadata": {},
   "outputs": [],
   "source": [
    "df.previous_owner.fillna(df_prw.groupby([\"make\", \"first_registration\", \"mile_class\" ])[\"previous_owner\"]\\\n",
    "                         .transform(lambda x: round(x.median(), 0)), inplace = True)"
   ]
  },
  {
   "cell_type": "code",
   "execution_count": 420,
   "id": "eeca0e35-45cf-4592-a203-500cb2b4146c",
   "metadata": {},
   "outputs": [],
   "source": [
    "df.previous_owner.fillna(df_prw.groupby([ \"first_registration\", \"make\" ])[\"previous_owner\"]\\\n",
    "                         .transform(lambda x: round(x.median(), 0)), inplace=True)"
   ]
  },
  {
   "cell_type": "code",
   "execution_count": 422,
   "id": "663d8ec6-61f4-4ede-8dc1-49c32bce6c24",
   "metadata": {},
   "outputs": [],
   "source": [
    "df.previous_owner.fillna(df_prw.groupby([ \"first_registration\"])[\"previous_owner\"]\\\n",
    "                         .transform(lambda x: round(x.median(), 0)), inplace=True)"
   ]
  },
  {
   "cell_type": "code",
   "execution_count": 424,
   "id": "57cf385d-4415-4d66-bbd2-c60968e111e2",
   "metadata": {},
   "outputs": [],
   "source": [
    "df.previous_owner.fillna(df_prw.groupby([\"make\" ])[\"previous_owner\"]\\\n",
    "                         .transform(lambda x: round(x.median(), 0)), inplace = True)"
   ]
  },
  {
   "cell_type": "code",
   "execution_count": 426,
   "id": "4441a556-39b3-4696-a41e-597d507fab81",
   "metadata": {},
   "outputs": [
    {
     "data": {
      "text/plain": [
       "0"
      ]
     },
     "execution_count": 426,
     "metadata": {},
     "output_type": "execute_result"
    }
   ],
   "source": [
    "df.previous_owner.isnull().sum()"
   ]
  },
  {
   "cell_type": "code",
   "execution_count": 428,
   "id": "96f0121e-5c93-4a5e-a127-9a599868e9d9",
   "metadata": {},
   "outputs": [
    {
     "data": {
      "text/plain": [
       "make_model                            0\n",
       "short_description                   213\n",
       "make                                  0\n",
       "model                                 0\n",
       "location                              0\n",
       "price                                 0\n",
       "body_type                             0\n",
       "type                                  0\n",
       "doors                                 0\n",
       "country_version                       0\n",
       "warranty                              0\n",
       "mileage                               0\n",
       "first_registration                    0\n",
       "gearbox                               0\n",
       "fuel_type                             0\n",
       "colour                                0\n",
       "paint                                 0\n",
       "seller                                0\n",
       "seats                                 0\n",
       "engine_size                           0\n",
       "gears                                 0\n",
       "co_emissions                      10036\n",
       "manufacturer_colour                   0\n",
       "drivetrain                            0\n",
       "cylinders                             0\n",
       "comfort_&_convenience              3197\n",
       "entertainment_&_media              4986\n",
       "safety_&_security                  3215\n",
       "extras                             5150\n",
       "empty_weight                          0\n",
       "general_inspection                16376\n",
       "full_service_history                  0\n",
       "non_smoker_vehicle                17036\n",
       "emission_class                        0\n",
       "emissions_sticker                 19216\n",
       "upholstery_colour                     0\n",
       "upholstery                            0\n",
       "previous_owner                        0\n",
       "other_fuel_types                  26317\n",
       "energy_efficiency_class           20826\n",
       "age                                   2\n",
       "power_kW                            572\n",
       "horse_power                           0\n",
       "f_consumption_per_100_combined        0\n",
       "comfort_convenience_pack              0\n",
       "safety_security_pack                  0\n",
       "entertainment_pack                    0\n",
       "extra_pack                            0\n",
       "location_country                      0\n",
       "dtype: int64"
      ]
     },
     "execution_count": 428,
     "metadata": {},
     "output_type": "execute_result"
    }
   ],
   "source": [
    "df.isnull().sum()"
   ]
  },
  {
   "cell_type": "code",
   "execution_count": 430,
   "id": "acc5cfb8-5926-46c2-8b11-e1d93e347f02",
   "metadata": {},
   "outputs": [],
   "source": [
    "df.drop(['short_description', 'co_emissions', 'comfort_&_convenience', 'entertainment_&_media',\n",
    "         'safety_&_security', 'extras', 'general_inspection', 'non_smoker_vehicle', 'emissions_sticker',\n",
    "         'other_fuel_types', 'energy_efficiency_class', 'age', 'power_kW', 'manufacturer_colour'], axis=1, inplace=True)"
   ]
  },
  {
   "cell_type": "code",
   "execution_count": 432,
   "id": "4a95f45c-2c85-4aaf-836d-43ec84e49a70",
   "metadata": {},
   "outputs": [],
   "source": [
    "df.drop('location', axis=1, inplace=True)"
   ]
  },
  {
   "cell_type": "code",
   "execution_count": 434,
   "id": "c6bcc5ae-4e3d-4e64-81f7-b8e4aee52c3c",
   "metadata": {},
   "outputs": [
    {
     "data": {
      "text/plain": [
       "Index(['make_model', 'make', 'model', 'price', 'body_type', 'type', 'doors',\n",
       "       'country_version', 'warranty', 'mileage', 'first_registration',\n",
       "       'gearbox', 'fuel_type', 'colour', 'paint', 'seller', 'seats',\n",
       "       'engine_size', 'gears', 'drivetrain', 'cylinders', 'empty_weight',\n",
       "       'full_service_history', 'emission_class', 'upholstery_colour',\n",
       "       'upholstery', 'previous_owner', 'horse_power',\n",
       "       'f_consumption_per_100_combined', 'comfort_convenience_pack',\n",
       "       'safety_security_pack', 'entertainment_pack', 'extra_pack',\n",
       "       'location_country'],\n",
       "      dtype='object')"
      ]
     },
     "execution_count": 434,
     "metadata": {},
     "output_type": "execute_result"
    }
   ],
   "source": [
    "df.columns"
   ]
  },
  {
   "cell_type": "code",
   "execution_count": 436,
   "id": "16a909c1-9e54-47ce-a824-da7c1a58c499",
   "metadata": {},
   "outputs": [],
   "source": [
    "temp_columns = df.rename(columns={\"country_version\": \"origin_country\", \"colour\": \"color\", \"upholstery_colour\":\"upholstery_color\",\n",
    "                  \"f_consumption_per_100_combined\":\"fuel_consumption\", \"comfort_convenience_pack\": \"comfort_convenience\",\n",
    "                  \"safety_security_pack\": \"safety_security\", \"entertainment_pack\":\"entertainment\",\n",
    "                  \"extra_pack\": \"extras\", \"location_country\": \"current_location\"}).columns"
   ]
  },
  {
   "cell_type": "code",
   "execution_count": 438,
   "id": "e4623565-9957-483c-a7e7-18ff6c3e07f2",
   "metadata": {},
   "outputs": [],
   "source": [
    "df.columns = temp_columns"
   ]
  },
  {
   "cell_type": "code",
   "execution_count": 440,
   "id": "4e11b283-95e6-4785-aff1-43af9f47a784",
   "metadata": {},
   "outputs": [
    {
     "name": "stdout",
     "output_type": "stream",
     "text": [
      "<class 'pandas.core.frame.DataFrame'>\n",
      "Index: 28630 entries, 0 to 29478\n",
      "Data columns (total 34 columns):\n",
      " #   Column                Non-Null Count  Dtype  \n",
      "---  ------                --------------  -----  \n",
      " 0   make_model            28630 non-null  object \n",
      " 1   make                  28630 non-null  object \n",
      " 2   model                 28630 non-null  object \n",
      " 3   price                 28630 non-null  float64\n",
      " 4   body_type             28630 non-null  object \n",
      " 5   type                  28630 non-null  object \n",
      " 6   doors                 28630 non-null  float64\n",
      " 7   origin_country        28630 non-null  object \n",
      " 8   warranty              28630 non-null  object \n",
      " 9   mileage               28630 non-null  float64\n",
      " 10  first_registration    28630 non-null  float64\n",
      " 11  gearbox               28630 non-null  object \n",
      " 12  fuel_type             28630 non-null  object \n",
      " 13  color                 28630 non-null  object \n",
      " 14  paint                 28630 non-null  object \n",
      " 15  seller                28630 non-null  object \n",
      " 16  seats                 28630 non-null  float64\n",
      " 17  engine_size           28630 non-null  float64\n",
      " 18  gears                 28630 non-null  float64\n",
      " 19  drivetrain            28630 non-null  object \n",
      " 20  cylinders             28630 non-null  float64\n",
      " 21  empty_weight          28630 non-null  float64\n",
      " 22  full_service_history  28630 non-null  object \n",
      " 23  emission_class        28630 non-null  object \n",
      " 24  upholstery_color      28630 non-null  object \n",
      " 25  upholstery            28630 non-null  object \n",
      " 26  previous_owner        28630 non-null  float64\n",
      " 27  horse_power           28630 non-null  float64\n",
      " 28  fuel_consumption      28630 non-null  float64\n",
      " 29  comfort_convenience   28630 non-null  object \n",
      " 30  safety_security       28630 non-null  object \n",
      " 31  entertainment         28630 non-null  object \n",
      " 32  extras                28630 non-null  object \n",
      " 33  current_location      28630 non-null  object \n",
      "dtypes: float64(12), object(22)\n",
      "memory usage: 8.7+ MB\n"
     ]
    }
   ],
   "source": [
    "df.info()"
   ]
  },
  {
   "cell_type": "code",
   "execution_count": 442,
   "id": "290aae3c-421a-4e4f-b049-ba9e764e496c",
   "metadata": {},
   "outputs": [],
   "source": [
    "df = df.reset_index(drop=True)"
   ]
  },
  {
   "cell_type": "code",
   "execution_count": 444,
   "id": "f9a4af43-6aa2-4883-8186-b996d1e67f1e",
   "metadata": {},
   "outputs": [],
   "source": [
    "df.to_csv(\"auto_scout_part2.csv\", index=False)"
   ]
  },
  {
   "cell_type": "code",
   "execution_count": null,
   "id": "e3edbcd9-7cbf-43b3-b734-76fa0308ceaa",
   "metadata": {},
   "outputs": [],
   "source": []
  },
  {
   "cell_type": "code",
   "execution_count": null,
   "id": "18b0a1ed-8dc7-4d72-a130-7e8fc7b70da7",
   "metadata": {},
   "outputs": [],
   "source": []
  }
 ],
 "metadata": {
  "kernelspec": {
   "display_name": "Python [conda env:base] *",
   "language": "python",
   "name": "conda-base-py"
  },
  "language_info": {
   "codemirror_mode": {
    "name": "ipython",
    "version": 3
   },
   "file_extension": ".py",
   "mimetype": "text/x-python",
   "name": "python",
   "nbconvert_exporter": "python",
   "pygments_lexer": "ipython3",
   "version": "3.12.7"
  }
 },
 "nbformat": 4,
 "nbformat_minor": 5
}
