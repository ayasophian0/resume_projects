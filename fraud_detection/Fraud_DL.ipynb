{
 "cells": [
  {
   "cell_type": "code",
   "execution_count": 1,
   "id": "5908f8a1-3b1c-446e-9f5c-91c4b3357c83",
   "metadata": {
    "executionInfo": {
     "elapsed": 1929,
     "status": "ok",
     "timestamp": 1741653586249,
     "user": {
      "displayName": "aya altun",
      "userId": "06998996972837690290"
     },
     "user_tz": -60
    },
    "id": "5908f8a1-3b1c-446e-9f5c-91c4b3357c83"
   },
   "outputs": [],
   "source": [
    "import numpy as np\n",
    "import pandas as pd\n",
    "import matplotlib.pyplot as plt\n",
    "import seaborn as sns\n",
    "\n",
    "pd.set_option('display.max_columns', None)\n",
    "\n",
    "import warnings\n",
    "warnings.filterwarnings('ignore')"
   ]
  },
  {
   "cell_type": "code",
   "execution_count": 2,
   "id": "ZeT1R3sPK2OK",
   "metadata": {
    "colab": {
     "base_uri": "https://localhost:8080/"
    },
    "executionInfo": {
     "elapsed": 27985,
     "status": "ok",
     "timestamp": 1741653630129,
     "user": {
      "displayName": "aya altun",
      "userId": "06998996972837690290"
     },
     "user_tz": -60
    },
    "id": "ZeT1R3sPK2OK",
    "outputId": "cfaa00f4-7399-41b2-9ce9-5d901a1609f9"
   },
   "outputs": [
    {
     "name": "stdout",
     "output_type": "stream",
     "text": [
      "Mounted at /content/drive\n"
     ]
    }
   ],
   "source": [
    "from google.colab import drive\n",
    "drive.mount('/content/drive')"
   ]
  },
  {
   "cell_type": "code",
   "execution_count": 3,
   "id": "7f468d18-5b93-4f90-bd55-6f5f19755cea",
   "metadata": {
    "executionInfo": {
     "elapsed": 6786,
     "status": "ok",
     "timestamp": 1741653639172,
     "user": {
      "displayName": "aya altun",
      "userId": "06998996972837690290"
     },
     "user_tz": -60
    },
    "id": "7f468d18-5b93-4f90-bd55-6f5f19755cea"
   },
   "outputs": [],
   "source": [
    "df = pd.read_csv('/content/drive/MyDrive/capstone projects/creditcard.csv')"
   ]
  },
  {
   "cell_type": "code",
   "execution_count": 4,
   "id": "50581599-93fc-4d5b-b5e3-d52f50fc5a95",
   "metadata": {
    "executionInfo": {
     "elapsed": 1060,
     "status": "ok",
     "timestamp": 1741653643608,
     "user": {
      "displayName": "aya altun",
      "userId": "06998996972837690290"
     },
     "user_tz": -60
    },
    "id": "50581599-93fc-4d5b-b5e3-d52f50fc5a95"
   },
   "outputs": [],
   "source": [
    "df.drop_duplicates(inplace=True)"
   ]
  },
  {
   "cell_type": "code",
   "execution_count": 5,
   "id": "6f4c2b1d-1e39-4e16-b544-5536ad79e68a",
   "metadata": {
    "executionInfo": {
     "elapsed": 590,
     "status": "ok",
     "timestamp": 1741653673430,
     "user": {
      "displayName": "aya altun",
      "userId": "06998996972837690290"
     },
     "user_tz": -60
    },
    "id": "6f4c2b1d-1e39-4e16-b544-5536ad79e68a"
   },
   "outputs": [],
   "source": [
    "from sklearn.model_selection import train_test_split\n",
    "\n",
    "X = df.drop('Class', axis=1)\n",
    "y = df.Class\n",
    "\n",
    "X_train, X_test, y_train, y_test = train_test_split(\n",
    "    X, y, test_size=0.2, stratify = y, random_state=42)\n",
    "\n",
    "X_train, X_val, y_train, y_val = train_test_split(\n",
    "    X_train, y_train, test_size=0.2, stratify = y_train, random_state=42)"
   ]
  },
  {
   "cell_type": "code",
   "execution_count": 6,
   "id": "_XY7-ZfRYA-V",
   "metadata": {
    "executionInfo": {
     "elapsed": 84,
     "status": "ok",
     "timestamp": 1741653683841,
     "user": {
      "displayName": "aya altun",
      "userId": "06998996972837690290"
     },
     "user_tz": -60
    },
    "id": "_XY7-ZfRYA-V"
   },
   "outputs": [],
   "source": [
    "from sklearn.preprocessing import StandardScaler\n",
    "\n",
    "scaler = StandardScaler().set_output(transform='pandas')\n",
    "X_train = scaler.fit_transform(X_train)\n",
    "X_test = scaler.transform(X_test)\n",
    "X_val = scaler.transform(X_val)"
   ]
  },
  {
   "cell_type": "code",
   "execution_count": 7,
   "id": "4ae12435-9656-42aa-9e24-a26b9f3f7a69",
   "metadata": {
    "executionInfo": {
     "elapsed": 8,
     "status": "ok",
     "timestamp": 1741653702115,
     "user": {
      "displayName": "aya altun",
      "userId": "06998996972837690290"
     },
     "user_tz": -60
    },
    "id": "4ae12435-9656-42aa-9e24-a26b9f3f7a69"
   },
   "outputs": [],
   "source": [
    "from sklearn.metrics import accuracy_score, precision_score, recall_score, f1_score, roc_auc_score, confusion_matrix, classification_report\n",
    "\n",
    "def eval_metric(model, X_train, y_train, X_test, y_test):\n",
    "    y_train_pred = (model.predict(X_train) > 0.5).astype(\"int32\")\n",
    "    y_pred = (model.predict(X_test) > 0.5).astype(\"int32\")\n",
    "\n",
    "    print(\"Test_Set\")\n",
    "    print(confusion_matrix(y_test, y_pred))\n",
    "    print(classification_report(y_test, y_pred))\n",
    "    print()\n",
    "    print(\"Train_Set\")\n",
    "    print(confusion_matrix(y_train, y_train_pred))\n",
    "    print(classification_report(y_train, y_train_pred))"
   ]
  },
  {
   "cell_type": "code",
   "execution_count": null,
   "id": "neWBGikuY5_s",
   "metadata": {
    "id": "neWBGikuY5_s"
   },
   "outputs": [],
   "source": []
  },
  {
   "cell_type": "markdown",
   "id": "k0yrw-RpY_Ye",
   "metadata": {
    "id": "k0yrw-RpY_Ye"
   },
   "source": [
    "### Model 1 Vanilla ANN"
   ]
  },
  {
   "cell_type": "code",
   "execution_count": 9,
   "id": "13hIgdp2p8m_",
   "metadata": {
    "executionInfo": {
     "elapsed": 9,
     "status": "ok",
     "timestamp": 1741653822386,
     "user": {
      "displayName": "aya altun",
      "userId": "06998996972837690290"
     },
     "user_tz": -60
    },
    "id": "13hIgdp2p8m_"
   },
   "outputs": [],
   "source": [
    "import tensorflow as tf\n",
    "from tensorflow import keras\n",
    "from tensorflow.keras.models import Sequential\n",
    "from tensorflow.keras.layers import Dense, Dropout, BatchNormalization\n",
    "from tensorflow.keras.optimizers import Adam\n",
    "from tensorflow.keras.callbacks import EarlyStopping, ReduceLROnPlateau\n",
    "import tensorflow.keras.backend as K"
   ]
  },
  {
   "cell_type": "code",
   "execution_count": 29,
   "id": "QpKQsnFhp5Ru",
   "metadata": {
    "executionInfo": {
     "elapsed": 41,
     "status": "ok",
     "timestamp": 1741657248193,
     "user": {
      "displayName": "aya altun",
      "userId": "06998996972837690290"
     },
     "user_tz": -60
    },
    "id": "QpKQsnFhp5Ru"
   },
   "outputs": [],
   "source": [
    "def focal_loss(alpha=0.25, gamma=2):\n",
    "    def loss(y_true, y_pred):\n",
    "        bce = K.binary_crossentropy(y_true, y_pred)\n",
    "        pt = K.exp(-bce)\n",
    "        focal = alpha * (1 - pt) ** gamma * bce\n",
    "        return K.mean(focal)\n",
    "    return loss\n",
    "\n",
    "def create_ann():\n",
    "    model = Sequential([\n",
    "        Dense(256, activation='relu', input_shape=(X_train.shape[1],)),\n",
    "        BatchNormalization(),\n",
    "        Dropout(0.3),\n",
    "\n",
    "        Dense(128, activation='relu'),\n",
    "        BatchNormalization(),\n",
    "        Dropout(0.3),\n",
    "\n",
    "        Dense(64, activation='relu'),\n",
    "        BatchNormalization(),\n",
    "        Dropout(0.3),\n",
    "\n",
    "        Dense(32, activation='relu'),\n",
    "        BatchNormalization(),\n",
    "        Dropout(0.2),\n",
    "\n",
    "        Dense(1, activation='sigmoid')\n",
    "    ])\n",
    "    model.compile(optimizer=Adam(learning_rate=0.0005),\n",
    "                  loss=focal_loss(),\n",
    "                  metrics=['recall'])\n",
    "\n",
    "    return model"
   ]
  },
  {
   "cell_type": "code",
   "execution_count": 30,
   "id": "jICnu-u7qLEX",
   "metadata": {
    "executionInfo": {
     "elapsed": 54,
     "status": "ok",
     "timestamp": 1741657251866,
     "user": {
      "displayName": "aya altun",
      "userId": "06998996972837690290"
     },
     "user_tz": -60
    },
    "id": "jICnu-u7qLEX"
   },
   "outputs": [],
   "source": [
    "from sklearn.utils.class_weight import compute_class_weight\n",
    "\n",
    "class_labels = np.unique(y_train)\n",
    "\n",
    "class_weights = compute_class_weight(class_weight=\"balanced\", classes=class_labels, y=y_train)\n",
    "\n",
    "class_weight_dict = {class_labels[i]: class_weights[i] for i in range(len(class_labels))}"
   ]
  },
  {
   "cell_type": "code",
   "execution_count": 31,
   "id": "mpO9090Cqf61",
   "metadata": {
    "colab": {
     "base_uri": "https://localhost:8080/"
    },
    "executionInfo": {
     "elapsed": 488757,
     "status": "ok",
     "timestamp": 1741657742593,
     "user": {
      "displayName": "aya altun",
      "userId": "06998996972837690290"
     },
     "user_tz": -60
    },
    "id": "mpO9090Cqf61",
    "outputId": "88d39470-353d-4ce8-d33b-212cd1f23331",
    "scrolled": true
   },
   "outputs": [
    {
     "name": "stdout",
     "output_type": "stream",
     "text": [
      "Epoch 1/100\n",
      "\u001b[1m2838/2838\u001b[0m \u001b[32m━━━━━━━━━━━━━━━━━━━━\u001b[0m\u001b[37m\u001b[0m \u001b[1m22s\u001b[0m 5ms/step - loss: 0.0343 - recall: 0.6704 - val_loss: 0.0013 - val_recall: 0.8684 - learning_rate: 5.0000e-04\n",
      "Epoch 2/100\n",
      "\u001b[1m2838/2838\u001b[0m \u001b[32m━━━━━━━━━━━━━━━━━━━━\u001b[0m\u001b[37m\u001b[0m \u001b[1m13s\u001b[0m 4ms/step - loss: 0.0020 - recall: 0.6937 - val_loss: 8.6680e-04 - val_recall: 0.8684 - learning_rate: 5.0000e-04\n",
      "Epoch 3/100\n",
      "\u001b[1m2838/2838\u001b[0m \u001b[32m━━━━━━━━━━━━━━━━━━━━\u001b[0m\u001b[37m\u001b[0m \u001b[1m21s\u001b[0m 4ms/step - loss: 0.0017 - recall: 0.7216 - val_loss: 7.5862e-04 - val_recall: 0.8684 - learning_rate: 5.0000e-04\n",
      "Epoch 4/100\n",
      "\u001b[1m2838/2838\u001b[0m \u001b[32m━━━━━━━━━━━━━━━━━━━━\u001b[0m\u001b[37m\u001b[0m \u001b[1m11s\u001b[0m 4ms/step - loss: 0.0012 - recall: 0.7739 - val_loss: 6.9729e-04 - val_recall: 0.8553 - learning_rate: 5.0000e-04\n",
      "Epoch 5/100\n",
      "\u001b[1m2838/2838\u001b[0m \u001b[32m━━━━━━━━━━━━━━━━━━━━\u001b[0m\u001b[37m\u001b[0m \u001b[1m12s\u001b[0m 4ms/step - loss: 9.5543e-04 - recall: 0.8120 - val_loss: 7.4193e-04 - val_recall: 0.8684 - learning_rate: 5.0000e-04\n",
      "Epoch 6/100\n",
      "\u001b[1m2838/2838\u001b[0m \u001b[32m━━━━━━━━━━━━━━━━━━━━\u001b[0m\u001b[37m\u001b[0m \u001b[1m20s\u001b[0m 4ms/step - loss: 6.9117e-04 - recall: 0.8544 - val_loss: 6.0125e-04 - val_recall: 0.8684 - learning_rate: 5.0000e-04\n",
      "Epoch 7/100\n",
      "\u001b[1m2838/2838\u001b[0m \u001b[32m━━━━━━━━━━━━━━━━━━━━\u001b[0m\u001b[37m\u001b[0m \u001b[1m11s\u001b[0m 4ms/step - loss: 9.0921e-04 - recall: 0.7956 - val_loss: 4.7164e-04 - val_recall: 0.8421 - learning_rate: 5.0000e-04\n",
      "Epoch 8/100\n",
      "\u001b[1m2838/2838\u001b[0m \u001b[32m━━━━━━━━━━━━━━━━━━━━\u001b[0m\u001b[37m\u001b[0m \u001b[1m12s\u001b[0m 4ms/step - loss: 8.1823e-04 - recall: 0.7857 - val_loss: 6.9961e-04 - val_recall: 0.8553 - learning_rate: 5.0000e-04\n",
      "Epoch 9/100\n",
      "\u001b[1m2838/2838\u001b[0m \u001b[32m━━━━━━━━━━━━━━━━━━━━\u001b[0m\u001b[37m\u001b[0m \u001b[1m21s\u001b[0m 4ms/step - loss: 6.4169e-04 - recall: 0.8253 - val_loss: 3.4168e-04 - val_recall: 0.8421 - learning_rate: 5.0000e-04\n",
      "Epoch 10/100\n",
      "\u001b[1m2838/2838\u001b[0m \u001b[32m━━━━━━━━━━━━━━━━━━━━\u001b[0m\u001b[37m\u001b[0m \u001b[1m19s\u001b[0m 4ms/step - loss: 6.7663e-04 - recall: 0.8552 - val_loss: 4.2031e-04 - val_recall: 0.8553 - learning_rate: 5.0000e-04\n",
      "Epoch 11/100\n",
      "\u001b[1m2838/2838\u001b[0m \u001b[32m━━━━━━━━━━━━━━━━━━━━\u001b[0m\u001b[37m\u001b[0m \u001b[1m12s\u001b[0m 4ms/step - loss: 6.9019e-04 - recall: 0.8447 - val_loss: 4.0306e-04 - val_recall: 0.8553 - learning_rate: 5.0000e-04\n",
      "Epoch 12/100\n",
      "\u001b[1m2838/2838\u001b[0m \u001b[32m━━━━━━━━━━━━━━━━━━━━\u001b[0m\u001b[37m\u001b[0m \u001b[1m20s\u001b[0m 4ms/step - loss: 6.7621e-04 - recall: 0.8204 - val_loss: 4.0236e-04 - val_recall: 0.8553 - learning_rate: 5.0000e-04\n",
      "Epoch 13/100\n",
      "\u001b[1m2838/2838\u001b[0m \u001b[32m━━━━━━━━━━━━━━━━━━━━\u001b[0m\u001b[37m\u001b[0m \u001b[1m19s\u001b[0m 4ms/step - loss: 7.5719e-04 - recall: 0.8380 - val_loss: 2.9709e-04 - val_recall: 0.8553 - learning_rate: 5.0000e-04\n",
      "Epoch 14/100\n",
      "\u001b[1m2838/2838\u001b[0m \u001b[32m━━━━━━━━━━━━━━━━━━━━\u001b[0m\u001b[37m\u001b[0m \u001b[1m22s\u001b[0m 4ms/step - loss: 5.4176e-04 - recall: 0.8232 - val_loss: 3.9221e-04 - val_recall: 0.8684 - learning_rate: 5.0000e-04\n",
      "Epoch 15/100\n",
      "\u001b[1m2838/2838\u001b[0m \u001b[32m━━━━━━━━━━━━━━━━━━━━\u001b[0m\u001b[37m\u001b[0m \u001b[1m12s\u001b[0m 4ms/step - loss: 5.2547e-04 - recall: 0.8616 - val_loss: 4.2177e-04 - val_recall: 0.8684 - learning_rate: 5.0000e-04\n",
      "Epoch 16/100\n",
      "\u001b[1m2838/2838\u001b[0m \u001b[32m━━━━━━━━━━━━━━━━━━━━\u001b[0m\u001b[37m\u001b[0m \u001b[1m19s\u001b[0m 4ms/step - loss: 5.9236e-04 - recall: 0.8268 - val_loss: 3.8548e-04 - val_recall: 0.8553 - learning_rate: 5.0000e-04\n",
      "Epoch 17/100\n",
      "\u001b[1m2838/2838\u001b[0m \u001b[32m━━━━━━━━━━━━━━━━━━━━\u001b[0m\u001b[37m\u001b[0m \u001b[1m21s\u001b[0m 4ms/step - loss: 4.1700e-04 - recall: 0.8920 - val_loss: 4.9521e-04 - val_recall: 0.8684 - learning_rate: 5.0000e-04\n",
      "Epoch 18/100\n",
      "\u001b[1m2838/2838\u001b[0m \u001b[32m━━━━━━━━━━━━━━━━━━━━\u001b[0m\u001b[37m\u001b[0m \u001b[1m12s\u001b[0m 4ms/step - loss: 5.3901e-04 - recall: 0.8764 - val_loss: 4.3586e-04 - val_recall: 0.8684 - learning_rate: 5.0000e-04\n",
      "Epoch 19/100\n",
      "\u001b[1m2838/2838\u001b[0m \u001b[32m━━━━━━━━━━━━━━━━━━━━\u001b[0m\u001b[37m\u001b[0m \u001b[1m12s\u001b[0m 4ms/step - loss: 6.0818e-04 - recall: 0.8382 - val_loss: 3.1391e-04 - val_recall: 0.8553 - learning_rate: 5.0000e-04\n",
      "Epoch 20/100\n",
      "\u001b[1m2838/2838\u001b[0m \u001b[32m━━━━━━━━━━━━━━━━━━━━\u001b[0m\u001b[37m\u001b[0m \u001b[1m20s\u001b[0m 4ms/step - loss: 4.6692e-04 - recall: 0.8529 - val_loss: 4.2789e-04 - val_recall: 0.8553 - learning_rate: 2.5000e-04\n",
      "Epoch 21/100\n",
      "\u001b[1m2838/2838\u001b[0m \u001b[32m━━━━━━━━━━━━━━━━━━━━\u001b[0m\u001b[37m\u001b[0m \u001b[1m20s\u001b[0m 4ms/step - loss: 3.4809e-04 - recall: 0.8976 - val_loss: 3.9064e-04 - val_recall: 0.8553 - learning_rate: 2.5000e-04\n",
      "Epoch 22/100\n",
      "\u001b[1m2838/2838\u001b[0m \u001b[32m━━━━━━━━━━━━━━━━━━━━\u001b[0m\u001b[37m\u001b[0m \u001b[1m23s\u001b[0m 5ms/step - loss: 4.2128e-04 - recall: 0.9006 - val_loss: 3.8566e-04 - val_recall: 0.8553 - learning_rate: 2.5000e-04\n",
      "Epoch 23/100\n",
      "\u001b[1m2838/2838\u001b[0m \u001b[32m━━━━━━━━━━━━━━━━━━━━\u001b[0m\u001b[37m\u001b[0m \u001b[1m18s\u001b[0m 4ms/step - loss: 4.2300e-04 - recall: 0.8592 - val_loss: 3.1723e-04 - val_recall: 0.8553 - learning_rate: 2.5000e-04\n",
      "Epoch 24/100\n",
      "\u001b[1m2838/2838\u001b[0m \u001b[32m━━━━━━━━━━━━━━━━━━━━\u001b[0m\u001b[37m\u001b[0m \u001b[1m22s\u001b[0m 4ms/step - loss: 3.2290e-04 - recall: 0.8658 - val_loss: 3.2913e-04 - val_recall: 0.8684 - learning_rate: 2.5000e-04\n",
      "Epoch 25/100\n",
      "\u001b[1m2838/2838\u001b[0m \u001b[32m━━━━━━━━━━━━━━━━━━━━\u001b[0m\u001b[37m\u001b[0m \u001b[1m20s\u001b[0m 4ms/step - loss: 3.6080e-04 - recall: 0.9349 - val_loss: 3.4344e-04 - val_recall: 0.8553 - learning_rate: 2.5000e-04\n",
      "Epoch 26/100\n",
      "\u001b[1m2838/2838\u001b[0m \u001b[32m━━━━━━━━━━━━━━━━━━━━\u001b[0m\u001b[37m\u001b[0m \u001b[1m12s\u001b[0m 4ms/step - loss: 5.1632e-04 - recall: 0.8627 - val_loss: 3.5485e-04 - val_recall: 0.8553 - learning_rate: 2.5000e-04\n",
      "Epoch 27/100\n",
      "\u001b[1m2838/2838\u001b[0m \u001b[32m━━━━━━━━━━━━━━━━━━━━\u001b[0m\u001b[37m\u001b[0m \u001b[1m20s\u001b[0m 4ms/step - loss: 3.4620e-04 - recall: 0.9121 - val_loss: 3.9037e-04 - val_recall: 0.8553 - learning_rate: 2.5000e-04\n",
      "Epoch 28/100\n",
      "\u001b[1m2838/2838\u001b[0m \u001b[32m━━━━━━━━━━━━━━━━━━━━\u001b[0m\u001b[37m\u001b[0m \u001b[1m12s\u001b[0m 4ms/step - loss: 3.1951e-04 - recall: 0.9065 - val_loss: 3.6481e-04 - val_recall: 0.8553 - learning_rate: 2.5000e-04\n"
     ]
    }
   ],
   "source": [
    "model = create_ann()\n",
    "\n",
    "early_stopping = EarlyStopping(monitor='val_loss', patience=15, restore_best_weights=True)\n",
    "reduce_lr = ReduceLROnPlateau(monitor='val_loss', factor=0.5, patience=10, min_lr=1e-5)\n",
    "\n",
    "history = model.fit(X_train, y_train,\n",
    "                    validation_data=(X_val, y_val),\n",
    "                    epochs=100,\n",
    "                    batch_size=64,\n",
    "                    callbacks=[early_stopping, reduce_lr],\n",
    "                    class_weight=class_weight_dict,\n",
    "                    verbose=1)"
   ]
  },
  {
   "cell_type": "code",
   "execution_count": 32,
   "id": "r4hHwse1M3oX",
   "metadata": {
    "colab": {
     "base_uri": "https://localhost:8080/",
     "height": 448
    },
    "executionInfo": {
     "elapsed": 368,
     "status": "ok",
     "timestamp": 1741657764371,
     "user": {
      "displayName": "aya altun",
      "userId": "06998996972837690290"
     },
     "user_tz": -60
    },
    "id": "r4hHwse1M3oX",
    "outputId": "5078ec67-2e2a-4f88-d5ac-1fc12ecce368"
   },
   "outputs": [
    {
     "data": {
      "text/plain": [
       "<Axes: >"
      ]
     },
     "execution_count": 32,
     "metadata": {},
     "output_type": "execute_result"
    },
    {
     "data": {
      "image/png": "[encoded data removed]",
      "text/plain": [
       "<Figure size 640x480 with 1 Axes>"
      ]
     },
     "metadata": {},
     "output_type": "display_data"
    }
   ],
   "source": [
    "loss_df = pd.DataFrame(model.history.history)\n",
    "loss_df.plot()"
   ]
  },
  {
   "cell_type": "code",
   "execution_count": 33,
   "id": "YmOjH8ApM8gx",
   "metadata": {
    "colab": {
     "base_uri": "https://localhost:8080/"
    },
    "executionInfo": {
     "elapsed": 25834,
     "status": "ok",
     "timestamp": 1741657793896,
     "user": {
      "displayName": "aya altun",
      "userId": "06998996972837690290"
     },
     "user_tz": -60
    },
    "id": "YmOjH8ApM8gx",
    "outputId": "9ba4bebc-a306-43f9-b78b-730057ef1e14"
   },
   "outputs": [
    {
     "name": "stdout",
     "output_type": "stream",
     "text": [
      "\u001b[1m5675/5675\u001b[0m \u001b[32m━━━━━━━━━━━━━━━━━━━━\u001b[0m\u001b[37m\u001b[0m \u001b[1m10s\u001b[0m 2ms/step\n",
      "\u001b[1m1774/1774\u001b[0m \u001b[32m━━━━━━━━━━━━━━━━━━━━\u001b[0m\u001b[37m\u001b[0m \u001b[1m6s\u001b[0m 3ms/step\n",
      "Test_Set\n",
      "[[56640    11]\n",
      " [   22    73]]\n",
      "              precision    recall  f1-score   support\n",
      "\n",
      "           0       1.00      1.00      1.00     56651\n",
      "           1       0.87      0.77      0.82        95\n",
      "\n",
      "    accuracy                           1.00     56746\n",
      "   macro avg       0.93      0.88      0.91     56746\n",
      "weighted avg       1.00      1.00      1.00     56746\n",
      "\n",
      "\n",
      "Train_Set\n",
      "[[181220     62]\n",
      " [    51    251]]\n",
      "              precision    recall  f1-score   support\n",
      "\n",
      "           0       1.00      1.00      1.00    181282\n",
      "           1       0.80      0.83      0.82       302\n",
      "\n",
      "    accuracy                           1.00    181584\n",
      "   macro avg       0.90      0.92      0.91    181584\n",
      "weighted avg       1.00      1.00      1.00    181584\n",
      "\n"
     ]
    }
   ],
   "source": [
    "eval_metric(model, X_train, y_train, X_test, y_test)"
   ]
  },
  {
   "cell_type": "code",
   "execution_count": 45,
   "id": "eg3Ma4Qc8Zq_",
   "metadata": {
    "colab": {
     "base_uri": "https://localhost:8080/",
     "height": 469
    },
    "executionInfo": {
     "elapsed": 3597,
     "status": "ok",
     "timestamp": 1741658648333,
     "user": {
      "displayName": "aya altun",
      "userId": "06998996972837690290"
     },
     "user_tz": -60
    },
    "id": "eg3Ma4Qc8Zq_",
    "outputId": "fa4406b0-33fa-4937-d5c8-1a413f6be9b7"
   },
   "outputs": [
    {
     "name": "stdout",
     "output_type": "stream",
     "text": [
      "\u001b[1m1774/1774\u001b[0m \u001b[32m━━━━━━━━━━━━━━━━━━━━\u001b[0m\u001b[37m\u001b[0m \u001b[1m3s\u001b[0m 1ms/step\n"
     ]
    },
    {
     "data": {
      "image/png": "[encoded data removed]",
      "text/plain": [
       "<Figure size 640x480 with 1 Axes>"
      ]
     },
     "metadata": {},
     "output_type": "display_data"
    }
   ],
   "source": [
    "from sklearn.metrics import precision_recall_curve, PrecisionRecallDisplay\n",
    "\n",
    "y_scores = model.predict(X_test)\n",
    "precision, recall, _ = precision_recall_curve(y_test, y_scores)\n",
    "disp = PrecisionRecallDisplay(precision=precision, recall=recall)\n",
    "disp.plot();"
   ]
  },
  {
   "cell_type": "markdown",
   "id": "27NnEKl7Zjlz",
   "metadata": {
    "id": "27NnEKl7Zjlz"
   },
   "source": [
    "### Model 2 With Unbalanced Data Techniques"
   ]
  },
  {
   "cell_type": "code",
   "execution_count": 37,
   "id": "mX3o18DzNASZ",
   "metadata": {
    "executionInfo": {
     "elapsed": 9,
     "status": "ok",
     "timestamp": 1741657955617,
     "user": {
      "displayName": "aya altun",
      "userId": "06998996972837690290"
     },
     "user_tz": -60
    },
    "id": "mX3o18DzNASZ"
   },
   "outputs": [],
   "source": [
    "from imblearn.pipeline import Pipeline\n",
    "from imblearn.over_sampling import SMOTE\n",
    "from imblearn.under_sampling import RandomUnderSampler"
   ]
  },
  {
   "cell_type": "code",
   "execution_count": 38,
   "id": "_9Q5YqbRv_5d",
   "metadata": {
    "executionInfo": {
     "elapsed": 4,
     "status": "ok",
     "timestamp": 1741657959528,
     "user": {
      "displayName": "aya altun",
      "userId": "06998996972837690290"
     },
     "user_tz": -60
    },
    "id": "_9Q5YqbRv_5d"
   },
   "outputs": [],
   "source": [
    "over = SMOTE(sampling_strategy=0.05)\n",
    "under = RandomUnderSampler(sampling_strategy=0.2)\n",
    "\n",
    "resampling = Pipeline([('over', over), ('under', under)])\n",
    "X_train_res, y_train_res = resampling.fit_resample(X_train, y_train)"
   ]
  },
  {
   "cell_type": "code",
   "execution_count": 39,
   "id": "R39XXFZP13ps",
   "metadata": {
    "colab": {
     "base_uri": "https://localhost:8080/"
    },
    "executionInfo": {
     "elapsed": 353891,
     "status": "ok",
     "timestamp": 1741658400564,
     "user": {
      "displayName": "aya altun",
      "userId": "06998996972837690290"
     },
     "user_tz": -60
    },
    "id": "R39XXFZP13ps",
    "outputId": "6d62a861-3e37-4879-936b-856e23df386f",
    "scrolled": true
   },
   "outputs": [
    {
     "name": "stdout",
     "output_type": "stream",
     "text": [
      "Epoch 1/50\n",
      "\u001b[1m850/850\u001b[0m \u001b[32m━━━━━━━━━━━━━━━━━━━━\u001b[0m\u001b[37m\u001b[0m \u001b[1m16s\u001b[0m 12ms/step - loss: 1.1716 - recall: 0.8515 - val_loss: 0.0019 - val_recall: 0.8816 - learning_rate: 5.0000e-04\n",
      "Epoch 2/50\n",
      "\u001b[1m850/850\u001b[0m \u001b[32m━━━━━━━━━━━━━━━━━━━━\u001b[0m\u001b[37m\u001b[0m \u001b[1m12s\u001b[0m 5ms/step - loss: 0.3346 - recall: 0.8956 - val_loss: 0.0016 - val_recall: 0.8816 - learning_rate: 5.0000e-04\n",
      "Epoch 3/50\n",
      "\u001b[1m850/850\u001b[0m \u001b[32m━━━━━━━━━━━━━━━━━━━━\u001b[0m\u001b[37m\u001b[0m \u001b[1m5s\u001b[0m 6ms/step - loss: 0.2211 - recall: 0.9299 - val_loss: 0.0012 - val_recall: 0.8816 - learning_rate: 5.0000e-04\n",
      "Epoch 4/50\n",
      "\u001b[1m850/850\u001b[0m \u001b[32m━━━━━━━━━━━━━━━━━━━━\u001b[0m\u001b[37m\u001b[0m \u001b[1m5s\u001b[0m 6ms/step - loss: 0.1655 - recall: 0.9518 - val_loss: 0.0010 - val_recall: 0.8816 - learning_rate: 5.0000e-04\n",
      "Epoch 5/50\n",
      "\u001b[1m850/850\u001b[0m \u001b[32m━━━━━━━━━━━━━━━━━━━━\u001b[0m\u001b[37m\u001b[0m \u001b[1m4s\u001b[0m 5ms/step - loss: 0.1227 - recall: 0.9687 - val_loss: 9.0272e-04 - val_recall: 0.8947 - learning_rate: 5.0000e-04\n",
      "Epoch 6/50\n",
      "\u001b[1m850/850\u001b[0m \u001b[32m━━━━━━━━━━━━━━━━━━━━\u001b[0m\u001b[37m\u001b[0m \u001b[1m5s\u001b[0m 5ms/step - loss: 0.1175 - recall: 0.9736 - val_loss: 8.3571e-04 - val_recall: 0.8684 - learning_rate: 5.0000e-04\n",
      "Epoch 7/50\n",
      "\u001b[1m850/850\u001b[0m \u001b[32m━━━━━━━━━━━━━━━━━━━━\u001b[0m\u001b[37m\u001b[0m \u001b[1m6s\u001b[0m 6ms/step - loss: 0.0892 - recall: 0.9789 - val_loss: 0.0011 - val_recall: 0.8816 - learning_rate: 5.0000e-04\n",
      "Epoch 8/50\n",
      "\u001b[1m850/850\u001b[0m \u001b[32m━━━━━━━━━━━━━━━━━━━━\u001b[0m\u001b[37m\u001b[0m \u001b[1m5s\u001b[0m 6ms/step - loss: 0.0802 - recall: 0.9839 - val_loss: 8.2587e-04 - val_recall: 0.8816 - learning_rate: 5.0000e-04\n",
      "Epoch 9/50\n",
      "\u001b[1m850/850\u001b[0m \u001b[32m━━━━━━━━━━━━━━━━━━━━\u001b[0m\u001b[37m\u001b[0m \u001b[1m6s\u001b[0m 7ms/step - loss: 0.0787 - recall: 0.9858 - val_loss: 7.3432e-04 - val_recall: 0.8816 - learning_rate: 5.0000e-04\n",
      "Epoch 10/50\n",
      "\u001b[1m850/850\u001b[0m \u001b[32m━━━━━━━━━━━━━━━━━━━━\u001b[0m\u001b[37m\u001b[0m \u001b[1m5s\u001b[0m 6ms/step - loss: 0.0600 - recall: 0.9899 - val_loss: 4.4116e-04 - val_recall: 0.8553 - learning_rate: 5.0000e-04\n",
      "Epoch 11/50\n",
      "\u001b[1m850/850\u001b[0m \u001b[32m━━━━━━━━━━━━━━━━━━━━\u001b[0m\u001b[37m\u001b[0m \u001b[1m12s\u001b[0m 8ms/step - loss: 0.0527 - recall: 0.9903 - val_loss: 5.3999e-04 - val_recall: 0.8816 - learning_rate: 5.0000e-04\n",
      "Epoch 12/50\n",
      "\u001b[1m850/850\u001b[0m \u001b[32m━━━━━━━━━━━━━━━━━━━━\u001b[0m\u001b[37m\u001b[0m \u001b[1m5s\u001b[0m 6ms/step - loss: 0.0610 - recall: 0.9919 - val_loss: 5.4674e-04 - val_recall: 0.8684 - learning_rate: 5.0000e-04\n",
      "Epoch 13/50\n",
      "\u001b[1m850/850\u001b[0m \u001b[32m━━━━━━━━━━━━━━━━━━━━\u001b[0m\u001b[37m\u001b[0m \u001b[1m10s\u001b[0m 6ms/step - loss: 0.0441 - recall: 0.9931 - val_loss: 5.4626e-04 - val_recall: 0.8684 - learning_rate: 5.0000e-04\n",
      "Epoch 14/50\n",
      "\u001b[1m850/850\u001b[0m \u001b[32m━━━━━━━━━━━━━━━━━━━━\u001b[0m\u001b[37m\u001b[0m \u001b[1m9s\u001b[0m 5ms/step - loss: 0.0463 - recall: 0.9937 - val_loss: 5.8766e-04 - val_recall: 0.8816 - learning_rate: 5.0000e-04\n",
      "Epoch 15/50\n",
      "\u001b[1m850/850\u001b[0m \u001b[32m━━━━━━━━━━━━━━━━━━━━\u001b[0m\u001b[37m\u001b[0m \u001b[1m4s\u001b[0m 5ms/step - loss: 0.0419 - recall: 0.9938 - val_loss: 5.2323e-04 - val_recall: 0.8684 - learning_rate: 5.0000e-04\n",
      "Epoch 16/50\n",
      "\u001b[1m850/850\u001b[0m \u001b[32m━━━━━━━━━━━━━━━━━━━━\u001b[0m\u001b[37m\u001b[0m \u001b[1m6s\u001b[0m 7ms/step - loss: 0.0358 - recall: 0.9945 - val_loss: 5.4561e-04 - val_recall: 0.8816 - learning_rate: 5.0000e-04\n",
      "Epoch 17/50\n",
      "\u001b[1m850/850\u001b[0m \u001b[32m━━━━━━━━━━━━━━━━━━━━\u001b[0m\u001b[37m\u001b[0m \u001b[1m9s\u001b[0m 6ms/step - loss: 0.0361 - recall: 0.9956 - val_loss: 4.7227e-04 - val_recall: 0.8684 - learning_rate: 5.0000e-04\n",
      "Epoch 18/50\n",
      "\u001b[1m850/850\u001b[0m \u001b[32m━━━━━━━━━━━━━━━━━━━━\u001b[0m\u001b[37m\u001b[0m \u001b[1m5s\u001b[0m 6ms/step - loss: 0.0289 - recall: 0.9960 - val_loss: 6.3688e-04 - val_recall: 0.8816 - learning_rate: 5.0000e-04\n",
      "Epoch 19/50\n",
      "\u001b[1m850/850\u001b[0m \u001b[32m━━━━━━━━━━━━━━━━━━━━\u001b[0m\u001b[37m\u001b[0m \u001b[1m11s\u001b[0m 7ms/step - loss: 0.0304 - recall: 0.9968 - val_loss: 5.1397e-04 - val_recall: 0.8684 - learning_rate: 5.0000e-04\n",
      "Epoch 20/50\n",
      "\u001b[1m850/850\u001b[0m \u001b[32m━━━━━━━━━━━━━━━━━━━━\u001b[0m\u001b[37m\u001b[0m \u001b[1m5s\u001b[0m 5ms/step - loss: 0.0302 - recall: 0.9971 - val_loss: 4.9970e-04 - val_recall: 0.8684 - learning_rate: 5.0000e-04\n",
      "Epoch 21/50\n",
      "\u001b[1m850/850\u001b[0m \u001b[32m━━━━━━━━━━━━━━━━━━━━\u001b[0m\u001b[37m\u001b[0m \u001b[1m4s\u001b[0m 5ms/step - loss: 0.0277 - recall: 0.9972 - val_loss: 4.2212e-04 - val_recall: 0.8553 - learning_rate: 2.5000e-04\n",
      "Epoch 22/50\n",
      "\u001b[1m850/850\u001b[0m \u001b[32m━━━━━━━━━━━━━━━━━━━━\u001b[0m\u001b[37m\u001b[0m \u001b[1m6s\u001b[0m 7ms/step - loss: 0.0233 - recall: 0.9968 - val_loss: 4.4197e-04 - val_recall: 0.8553 - learning_rate: 2.5000e-04\n",
      "Epoch 23/50\n",
      "\u001b[1m850/850\u001b[0m \u001b[32m━━━━━━━━━━━━━━━━━━━━\u001b[0m\u001b[37m\u001b[0m \u001b[1m10s\u001b[0m 6ms/step - loss: 0.0229 - recall: 0.9975 - val_loss: 4.4537e-04 - val_recall: 0.8684 - learning_rate: 2.5000e-04\n",
      "Epoch 24/50\n",
      "\u001b[1m850/850\u001b[0m \u001b[32m━━━━━━━━━━━━━━━━━━━━\u001b[0m\u001b[37m\u001b[0m \u001b[1m10s\u001b[0m 6ms/step - loss: 0.0146 - recall: 0.9989 - val_loss: 4.3690e-04 - val_recall: 0.8684 - learning_rate: 2.5000e-04\n",
      "Epoch 25/50\n",
      "\u001b[1m850/850\u001b[0m \u001b[32m━━━━━━━━━━━━━━━━━━━━\u001b[0m\u001b[37m\u001b[0m \u001b[1m10s\u001b[0m 6ms/step - loss: 0.0222 - recall: 0.9978 - val_loss: 4.3650e-04 - val_recall: 0.8553 - learning_rate: 2.5000e-04\n",
      "Epoch 26/50\n",
      "\u001b[1m850/850\u001b[0m \u001b[32m━━━━━━━━━━━━━━━━━━━━\u001b[0m\u001b[37m\u001b[0m \u001b[1m5s\u001b[0m 6ms/step - loss: 0.0176 - recall: 0.9981 - val_loss: 4.2699e-04 - val_recall: 0.8684 - learning_rate: 2.5000e-04\n",
      "Epoch 27/50\n",
      "\u001b[1m850/850\u001b[0m \u001b[32m━━━━━━━━━━━━━━━━━━━━\u001b[0m\u001b[37m\u001b[0m \u001b[1m9s\u001b[0m 5ms/step - loss: 0.0141 - recall: 0.9985 - val_loss: 4.7803e-04 - val_recall: 0.8553 - learning_rate: 2.5000e-04\n",
      "Epoch 28/50\n",
      "\u001b[1m850/850\u001b[0m \u001b[32m━━━━━━━━━━━━━━━━━━━━\u001b[0m\u001b[37m\u001b[0m \u001b[1m6s\u001b[0m 6ms/step - loss: 0.0195 - recall: 0.9984 - val_loss: 4.0698e-04 - val_recall: 0.8684 - learning_rate: 2.5000e-04\n",
      "Epoch 29/50\n",
      "\u001b[1m850/850\u001b[0m \u001b[32m━━━━━━━━━━━━━━━━━━━━\u001b[0m\u001b[37m\u001b[0m \u001b[1m5s\u001b[0m 6ms/step - loss: 0.0127 - recall: 0.9983 - val_loss: 4.1645e-04 - val_recall: 0.8553 - learning_rate: 2.5000e-04\n",
      "Epoch 30/50\n",
      "\u001b[1m850/850\u001b[0m \u001b[32m━━━━━━━━━━━━━━━━━━━━\u001b[0m\u001b[37m\u001b[0m \u001b[1m5s\u001b[0m 6ms/step - loss: 0.0142 - recall: 0.9981 - val_loss: 4.4522e-04 - val_recall: 0.8684 - learning_rate: 2.5000e-04\n",
      "Epoch 31/50\n",
      "\u001b[1m850/850\u001b[0m \u001b[32m━━━━━━━━━━━━━━━━━━━━\u001b[0m\u001b[37m\u001b[0m \u001b[1m5s\u001b[0m 5ms/step - loss: 0.0141 - recall: 0.9983 - val_loss: 4.2346e-04 - val_recall: 0.8553 - learning_rate: 1.2500e-04\n",
      "Epoch 32/50\n",
      "\u001b[1m850/850\u001b[0m \u001b[32m━━━━━━━━━━━━━━━━━━━━\u001b[0m\u001b[37m\u001b[0m \u001b[1m5s\u001b[0m 5ms/step - loss: 0.0175 - recall: 0.9983 - val_loss: 4.1791e-04 - val_recall: 0.8553 - learning_rate: 1.2500e-04\n",
      "Epoch 33/50\n",
      "\u001b[1m850/850\u001b[0m \u001b[32m━━━━━━━━━━━━━━━━━━━━\u001b[0m\u001b[37m\u001b[0m \u001b[1m7s\u001b[0m 7ms/step - loss: 0.0121 - recall: 0.9979 - val_loss: 4.3887e-04 - val_recall: 0.8553 - learning_rate: 1.2500e-04\n",
      "Epoch 34/50\n",
      "\u001b[1m850/850\u001b[0m \u001b[32m━━━━━━━━━━━━━━━━━━━━\u001b[0m\u001b[37m\u001b[0m \u001b[1m5s\u001b[0m 6ms/step - loss: 0.0099 - recall: 0.9986 - val_loss: 4.3846e-04 - val_recall: 0.8553 - learning_rate: 1.2500e-04\n",
      "Epoch 35/50\n",
      "\u001b[1m850/850\u001b[0m \u001b[32m━━━━━━━━━━━━━━━━━━━━\u001b[0m\u001b[37m\u001b[0m \u001b[1m5s\u001b[0m 6ms/step - loss: 0.0145 - recall: 0.9992 - val_loss: 4.1814e-04 - val_recall: 0.8421 - learning_rate: 1.2500e-04\n",
      "Epoch 36/50\n",
      "\u001b[1m850/850\u001b[0m \u001b[32m━━━━━━━━━━━━━━━━━━━━\u001b[0m\u001b[37m\u001b[0m \u001b[1m10s\u001b[0m 6ms/step - loss: 0.0118 - recall: 0.9993 - val_loss: 4.1516e-04 - val_recall: 0.8553 - learning_rate: 1.2500e-04\n",
      "Epoch 37/50\n",
      "\u001b[1m850/850\u001b[0m \u001b[32m━━━━━━━━━━━━━━━━━━━━\u001b[0m\u001b[37m\u001b[0m \u001b[1m9s\u001b[0m 5ms/step - loss: 0.0141 - recall: 0.9981 - val_loss: 4.3522e-04 - val_recall: 0.8684 - learning_rate: 1.2500e-04\n",
      "Epoch 38/50\n",
      "\u001b[1m850/850\u001b[0m \u001b[32m━━━━━━━━━━━━━━━━━━━━\u001b[0m\u001b[37m\u001b[0m \u001b[1m5s\u001b[0m 6ms/step - loss: 0.0096 - recall: 0.9995 - val_loss: 4.4030e-04 - val_recall: 0.8553 - learning_rate: 1.2500e-04\n",
      "Epoch 39/50\n",
      "\u001b[1m850/850\u001b[0m \u001b[32m━━━━━━━━━━━━━━━━━━━━\u001b[0m\u001b[37m\u001b[0m \u001b[1m5s\u001b[0m 6ms/step - loss: 0.0130 - recall: 0.9990 - val_loss: 4.1751e-04 - val_recall: 0.8553 - learning_rate: 1.2500e-04\n",
      "Epoch 40/50\n",
      "\u001b[1m850/850\u001b[0m \u001b[32m━━━━━━━━━━━━━━━━━━━━\u001b[0m\u001b[37m\u001b[0m \u001b[1m10s\u001b[0m 6ms/step - loss: 0.0115 - recall: 0.9993 - val_loss: 4.0354e-04 - val_recall: 0.8421 - learning_rate: 1.2500e-04\n",
      "Epoch 41/50\n",
      "\u001b[1m850/850\u001b[0m \u001b[32m━━━━━━━━━━━━━━━━━━━━\u001b[0m\u001b[37m\u001b[0m \u001b[1m10s\u001b[0m 5ms/step - loss: 0.0091 - recall: 0.9999 - val_loss: 3.9986e-04 - val_recall: 0.8421 - learning_rate: 6.2500e-05\n",
      "Epoch 42/50\n",
      "\u001b[1m850/850\u001b[0m \u001b[32m━━━━━━━━━━━━━━━━━━━━\u001b[0m\u001b[37m\u001b[0m \u001b[1m5s\u001b[0m 6ms/step - loss: 0.0091 - recall: 0.9985 - val_loss: 4.1771e-04 - val_recall: 0.8421 - learning_rate: 6.2500e-05\n",
      "Epoch 43/50\n",
      "\u001b[1m850/850\u001b[0m \u001b[32m━━━━━━━━━━━━━━━━━━━━\u001b[0m\u001b[37m\u001b[0m \u001b[1m5s\u001b[0m 6ms/step - loss: 0.0125 - recall: 0.9991 - val_loss: 4.1726e-04 - val_recall: 0.8421 - learning_rate: 6.2500e-05\n",
      "Epoch 44/50\n",
      "\u001b[1m850/850\u001b[0m \u001b[32m━━━━━━━━━━━━━━━━━━━━\u001b[0m\u001b[37m\u001b[0m \u001b[1m5s\u001b[0m 6ms/step - loss: 0.0083 - recall: 0.9993 - val_loss: 3.9153e-04 - val_recall: 0.8421 - learning_rate: 6.2500e-05\n",
      "Epoch 45/50\n",
      "\u001b[1m850/850\u001b[0m \u001b[32m━━━━━━━━━━━━━━━━━━━━\u001b[0m\u001b[37m\u001b[0m \u001b[1m10s\u001b[0m 6ms/step - loss: 0.0079 - recall: 0.9982 - val_loss: 4.1444e-04 - val_recall: 0.8421 - learning_rate: 6.2500e-05\n",
      "Epoch 46/50\n",
      "\u001b[1m850/850\u001b[0m \u001b[32m━━━━━━━━━━━━━━━━━━━━\u001b[0m\u001b[37m\u001b[0m \u001b[1m5s\u001b[0m 6ms/step - loss: 0.0091 - recall: 0.9992 - val_loss: 4.0078e-04 - val_recall: 0.8421 - learning_rate: 6.2500e-05\n",
      "Epoch 47/50\n",
      "\u001b[1m850/850\u001b[0m \u001b[32m━━━━━━━━━━━━━━━━━━━━\u001b[0m\u001b[37m\u001b[0m \u001b[1m5s\u001b[0m 6ms/step - loss: 0.0078 - recall: 0.9996 - val_loss: 4.1795e-04 - val_recall: 0.8421 - learning_rate: 6.2500e-05\n",
      "Epoch 48/50\n",
      "\u001b[1m850/850\u001b[0m \u001b[32m━━━━━━━━━━━━━━━━━━━━\u001b[0m\u001b[37m\u001b[0m \u001b[1m10s\u001b[0m 6ms/step - loss: 0.0099 - recall: 0.9992 - val_loss: 4.1634e-04 - val_recall: 0.8421 - learning_rate: 6.2500e-05\n",
      "Epoch 49/50\n",
      "\u001b[1m850/850\u001b[0m \u001b[32m━━━━━━━━━━━━━━━━━━━━\u001b[0m\u001b[37m\u001b[0m \u001b[1m5s\u001b[0m 6ms/step - loss: 0.0058 - recall: 0.9994 - val_loss: 4.1647e-04 - val_recall: 0.8421 - learning_rate: 6.2500e-05\n",
      "Epoch 50/50\n",
      "\u001b[1m850/850\u001b[0m \u001b[32m━━━━━━━━━━━━━━━━━━━━\u001b[0m\u001b[37m\u001b[0m \u001b[1m9s\u001b[0m 5ms/step - loss: 0.0066 - recall: 0.9998 - val_loss: 4.3777e-04 - val_recall: 0.8421 - learning_rate: 6.2500e-05\n"
     ]
    }
   ],
   "source": [
    "model2 = create_ann()\n",
    "\n",
    "early_stopping = EarlyStopping(monitor='val_loss', patience=15, restore_best_weights=True)\n",
    "reduce_lr = ReduceLROnPlateau(monitor='val_loss', factor=0.5, patience=10, min_lr=1e-5)\n",
    "\n",
    "history = model2.fit(X_train_res, y_train_res,\n",
    "                    validation_data=(X_val, y_val),\n",
    "                    epochs=50,\n",
    "                    batch_size=64,\n",
    "                    callbacks=[early_stopping, reduce_lr],\n",
    "                    class_weight=class_weight_dict,\n",
    "                    verbose=1)"
   ]
  },
  {
   "cell_type": "code",
   "execution_count": 40,
   "id": "M1_XmsnYOhFu",
   "metadata": {
    "colab": {
     "base_uri": "https://localhost:8080/",
     "height": 448
    },
    "executionInfo": {
     "elapsed": 261,
     "status": "ok",
     "timestamp": 1741658448311,
     "user": {
      "displayName": "aya altun",
      "userId": "06998996972837690290"
     },
     "user_tz": -60
    },
    "id": "M1_XmsnYOhFu",
    "outputId": "fab94abd-435f-418b-ad43-6faa169e56fd"
   },
   "outputs": [
    {
     "data": {
      "text/plain": [
       "<Axes: >"
      ]
     },
     "execution_count": 40,
     "metadata": {},
     "output_type": "execute_result"
    },
    {
     "data": {
      "image/png": "[encoded data removed]",
      "text/plain": [
       "<Figure size 640x480 with 1 Axes>"
      ]
     },
     "metadata": {},
     "output_type": "display_data"
    }
   ],
   "source": [
    "loss_df = pd.DataFrame(model2.history.history)\n",
    "loss_df.plot()"
   ]
  },
  {
   "cell_type": "code",
   "execution_count": 42,
   "id": "txtMWDgFOjE_",
   "metadata": {
    "colab": {
     "base_uri": "https://localhost:8080/"
    },
    "executionInfo": {
     "elapsed": 13482,
     "status": "ok",
     "timestamp": 1741658501899,
     "user": {
      "displayName": "aya altun",
      "userId": "06998996972837690290"
     },
     "user_tz": -60
    },
    "id": "txtMWDgFOjE_",
    "outputId": "ef763c10-049a-4a47-bdf2-ffb0eb9d1cf1"
   },
   "outputs": [
    {
     "name": "stdout",
     "output_type": "stream",
     "text": [
      "\u001b[1m1700/1700\u001b[0m \u001b[32m━━━━━━━━━━━━━━━━━━━━\u001b[0m\u001b[37m\u001b[0m \u001b[1m6s\u001b[0m 4ms/step\n",
      "\u001b[1m1774/1774\u001b[0m \u001b[32m━━━━━━━━━━━━━━━━━━━━\u001b[0m\u001b[37m\u001b[0m \u001b[1m3s\u001b[0m 1ms/step\n",
      "Test_Set\n",
      "[[56625    26]\n",
      " [   19    76]]\n",
      "              precision    recall  f1-score   support\n",
      "\n",
      "           0       1.00      1.00      1.00     56651\n",
      "           1       0.75      0.80      0.77        95\n",
      "\n",
      "    accuracy                           1.00     56746\n",
      "   macro avg       0.87      0.90      0.89     56746\n",
      "weighted avg       1.00      1.00      1.00     56746\n",
      "\n",
      "\n",
      "Train_Set\n",
      "[[45308    12]\n",
      " [    0  9064]]\n",
      "              precision    recall  f1-score   support\n",
      "\n",
      "           0       1.00      1.00      1.00     45320\n",
      "           1       1.00      1.00      1.00      9064\n",
      "\n",
      "    accuracy                           1.00     54384\n",
      "   macro avg       1.00      1.00      1.00     54384\n",
      "weighted avg       1.00      1.00      1.00     54384\n",
      "\n"
     ]
    }
   ],
   "source": [
    "eval_metric(model2, X_train_res, y_train_res, X_test, y_test)"
   ]
  },
  {
   "cell_type": "code",
   "execution_count": 44,
   "id": "7VcVEgi17-nL",
   "metadata": {
    "colab": {
     "base_uri": "https://localhost:8080/",
     "height": 469
    },
    "executionInfo": {
     "elapsed": 4132,
     "status": "ok",
     "timestamp": 1741658590732,
     "user": {
      "displayName": "aya altun",
      "userId": "06998996972837690290"
     },
     "user_tz": -60
    },
    "id": "7VcVEgi17-nL",
    "outputId": "cb0da04c-4501-4b7d-fe20-e26c4af9219b"
   },
   "outputs": [
    {
     "name": "stdout",
     "output_type": "stream",
     "text": [
      "\u001b[1m1774/1774\u001b[0m \u001b[32m━━━━━━━━━━━━━━━━━━━━\u001b[0m\u001b[37m\u001b[0m \u001b[1m3s\u001b[0m 2ms/step\n"
     ]
    },
    {
     "data": {
      "image/png": "[encoded data removed]",
      "text/plain": [
       "<Figure size 640x480 with 1 Axes>"
      ]
     },
     "metadata": {},
     "output_type": "display_data"
    }
   ],
   "source": [
    "from sklearn.metrics import precision_recall_curve, PrecisionRecallDisplay\n",
    "\n",
    "y_scores = model2.predict(X_test)\n",
    "precision, recall, _ = precision_recall_curve(y_test, y_scores)\n",
    "disp = PrecisionRecallDisplay(precision=precision, recall=recall)\n",
    "disp.plot();\n"
   ]
  },
  {
   "cell_type": "markdown",
   "id": "UC1BXGU08vGn",
   "metadata": {
    "id": "UC1BXGU08vGn"
   },
   "source": [
    "### Final takeaways:\n",
    "- Although ANN model may perform equally strong or even better than Machine Learning models, training and obtaining predictions from Deep Learning models are costly.\n",
    "- Over- or under-sampling the training data should be further analyzed. With a good blend of resampling, test scores would be much better."
   ]
  },
  {
   "cell_type": "code",
   "execution_count": null,
   "id": "OTyU_Paa9nt2",
   "metadata": {
    "id": "OTyU_Paa9nt2"
   },
   "outputs": [],
   "source": []
  }
 ],
 "metadata": {
  "accelerator": "GPU",
  "colab": {
   "gpuType": "T4",
   "provenance": []
  },
  "kernelspec": {
   "display_name": "Python [conda env:base] *",
   "language": "python",
   "name": "conda-base-py"
  },
  "language_info": {
   "codemirror_mode": {
    "name": "ipython",
    "version": 3
   },
   "file_extension": ".py",
   "mimetype": "text/x-python",
   "name": "python",
   "nbconvert_exporter": "python",
   "pygments_lexer": "ipython3",
   "version": "3.12.7"
  }
 },
 "nbformat": 4,
 "nbformat_minor": 5
}
